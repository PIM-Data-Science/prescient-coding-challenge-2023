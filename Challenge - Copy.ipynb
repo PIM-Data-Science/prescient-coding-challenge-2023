{
 "cells": [
  {
   "cell_type": "code",
   "execution_count": 4,
   "metadata": {},
   "outputs": [
    {
     "name": "stdout",
     "output_type": "stream",
     "text": [
      "---Python script Start--- 2023-08-05 13:43:56.409716\n"
     ]
    }
   ],
   "source": [
    "import numpy as np\n",
    "import pandas as pd\n",
    "import datetime\n",
    "import plotly.express as px\n",
    "from keras.models import Sequential\n",
    "from keras.layers import LSTM, Dense, Dropout\n",
    "from sklearn.preprocessing import MinMaxScaler\n",
    "from sklearn.model_selection import train_test_split\n",
    "import matplotlib.pyplot as plt\n",
    "\n",
    "print(\"---Python script Start---\", str(datetime.datetime.now()))"
   ]
  },
  {
   "cell_type": "code",
   "execution_count": 5,
   "metadata": {},
   "outputs": [
    {
     "data": {
      "text/html": [
       "<div>\n",
       "<style scoped>\n",
       "    .dataframe tbody tr th:only-of-type {\n",
       "        vertical-align: middle;\n",
       "    }\n",
       "\n",
       "    .dataframe tbody tr th {\n",
       "        vertical-align: top;\n",
       "    }\n",
       "\n",
       "    .dataframe thead th {\n",
       "        text-align: right;\n",
       "    }\n",
       "</style>\n",
       "<table border=\"1\" class=\"dataframe\">\n",
       "  <thead>\n",
       "    <tr style=\"text-align: right;\">\n",
       "      <th></th>\n",
       "      <th>month_end</th>\n",
       "      <th>Stock1</th>\n",
       "      <th>Stock10</th>\n",
       "      <th>Stock11</th>\n",
       "      <th>Stock14</th>\n",
       "      <th>Stock16</th>\n",
       "      <th>Stock18</th>\n",
       "      <th>Stock19</th>\n",
       "      <th>Stock20</th>\n",
       "      <th>Stock21</th>\n",
       "      <th>...</th>\n",
       "      <th>Stock78</th>\n",
       "      <th>Stock79</th>\n",
       "      <th>Stock80</th>\n",
       "      <th>Stock81</th>\n",
       "      <th>Stock84</th>\n",
       "      <th>Stock85</th>\n",
       "      <th>Stock86</th>\n",
       "      <th>Stock87</th>\n",
       "      <th>Stock88</th>\n",
       "      <th>Stock9</th>\n",
       "    </tr>\n",
       "  </thead>\n",
       "  <tbody>\n",
       "    <tr>\n",
       "      <th>0</th>\n",
       "      <td>2010-01-31</td>\n",
       "      <td>0.042603</td>\n",
       "      <td>-0.076059</td>\n",
       "      <td>-0.149741</td>\n",
       "      <td>-0.031251</td>\n",
       "      <td>-0.053032</td>\n",
       "      <td>-0.113752</td>\n",
       "      <td>-0.071671</td>\n",
       "      <td>0.005430</td>\n",
       "      <td>0.005715</td>\n",
       "      <td>...</td>\n",
       "      <td>-0.028168</td>\n",
       "      <td>0.017445</td>\n",
       "      <td>-0.100000</td>\n",
       "      <td>0.018014</td>\n",
       "      <td>0.044749</td>\n",
       "      <td>0.016824</td>\n",
       "      <td>-0.111084</td>\n",
       "      <td>-0.035229</td>\n",
       "      <td>-0.033204</td>\n",
       "      <td>0.030927</td>\n",
       "    </tr>\n",
       "    <tr>\n",
       "      <th>1</th>\n",
       "      <td>2010-02-28</td>\n",
       "      <td>-0.015034</td>\n",
       "      <td>-0.100305</td>\n",
       "      <td>-0.023279</td>\n",
       "      <td>0.002484</td>\n",
       "      <td>0.077088</td>\n",
       "      <td>0.010849</td>\n",
       "      <td>0.022383</td>\n",
       "      <td>0.095480</td>\n",
       "      <td>0.067745</td>\n",
       "      <td>...</td>\n",
       "      <td>0.082448</td>\n",
       "      <td>-0.106195</td>\n",
       "      <td>0.066669</td>\n",
       "      <td>0.000556</td>\n",
       "      <td>-0.010800</td>\n",
       "      <td>0.006326</td>\n",
       "      <td>-0.026405</td>\n",
       "      <td>-0.013759</td>\n",
       "      <td>0.095241</td>\n",
       "      <td>-0.010000</td>\n",
       "    </tr>\n",
       "    <tr>\n",
       "      <th>2</th>\n",
       "      <td>2010-03-31</td>\n",
       "      <td>0.111545</td>\n",
       "      <td>0.097933</td>\n",
       "      <td>0.121501</td>\n",
       "      <td>0.064357</td>\n",
       "      <td>0.107439</td>\n",
       "      <td>0.017883</td>\n",
       "      <td>0.000892</td>\n",
       "      <td>0.032425</td>\n",
       "      <td>0.018012</td>\n",
       "      <td>...</td>\n",
       "      <td>0.036357</td>\n",
       "      <td>0.220049</td>\n",
       "      <td>0.098957</td>\n",
       "      <td>0.088889</td>\n",
       "      <td>0.088630</td>\n",
       "      <td>0.047296</td>\n",
       "      <td>0.153527</td>\n",
       "      <td>0.034416</td>\n",
       "      <td>0.041795</td>\n",
       "      <td>0.024809</td>\n",
       "    </tr>\n",
       "    <tr>\n",
       "      <th>3</th>\n",
       "      <td>2010-04-30</td>\n",
       "      <td>-0.040491</td>\n",
       "      <td>-0.034262</td>\n",
       "      <td>-0.032848</td>\n",
       "      <td>-0.030232</td>\n",
       "      <td>0.022388</td>\n",
       "      <td>0.085504</td>\n",
       "      <td>-0.007159</td>\n",
       "      <td>0.052763</td>\n",
       "      <td>0.017920</td>\n",
       "      <td>...</td>\n",
       "      <td>0.040579</td>\n",
       "      <td>0.004259</td>\n",
       "      <td>-0.052133</td>\n",
       "      <td>0.005099</td>\n",
       "      <td>-0.016164</td>\n",
       "      <td>0.012845</td>\n",
       "      <td>-0.004702</td>\n",
       "      <td>0.019786</td>\n",
       "      <td>0.042046</td>\n",
       "      <td>0.030303</td>\n",
       "    </tr>\n",
       "    <tr>\n",
       "      <th>4</th>\n",
       "      <td>2010-05-31</td>\n",
       "      <td>-0.069359</td>\n",
       "      <td>-0.073188</td>\n",
       "      <td>0.004349</td>\n",
       "      <td>0.010792</td>\n",
       "      <td>-0.025548</td>\n",
       "      <td>-0.001887</td>\n",
       "      <td>-0.012534</td>\n",
       "      <td>0.068973</td>\n",
       "      <td>-0.026794</td>\n",
       "      <td>...</td>\n",
       "      <td>-0.025069</td>\n",
       "      <td>-0.062221</td>\n",
       "      <td>0.004332</td>\n",
       "      <td>-0.023857</td>\n",
       "      <td>-0.085645</td>\n",
       "      <td>-0.041085</td>\n",
       "      <td>-0.083320</td>\n",
       "      <td>0.095238</td>\n",
       "      <td>-0.124253</td>\n",
       "      <td>-0.010784</td>\n",
       "    </tr>\n",
       "    <tr>\n",
       "      <th>...</th>\n",
       "      <td>...</td>\n",
       "      <td>...</td>\n",
       "      <td>...</td>\n",
       "      <td>...</td>\n",
       "      <td>...</td>\n",
       "      <td>...</td>\n",
       "      <td>...</td>\n",
       "      <td>...</td>\n",
       "      <td>...</td>\n",
       "      <td>...</td>\n",
       "      <td>...</td>\n",
       "      <td>...</td>\n",
       "      <td>...</td>\n",
       "      <td>...</td>\n",
       "      <td>...</td>\n",
       "      <td>...</td>\n",
       "      <td>...</td>\n",
       "      <td>...</td>\n",
       "      <td>...</td>\n",
       "      <td>...</td>\n",
       "      <td>...</td>\n",
       "    </tr>\n",
       "    <tr>\n",
       "      <th>87</th>\n",
       "      <td>2017-04-30</td>\n",
       "      <td>0.057631</td>\n",
       "      <td>0.089651</td>\n",
       "      <td>-0.090908</td>\n",
       "      <td>-0.045544</td>\n",
       "      <td>0.033207</td>\n",
       "      <td>-0.003331</td>\n",
       "      <td>0.036885</td>\n",
       "      <td>-0.017510</td>\n",
       "      <td>0.097012</td>\n",
       "      <td>...</td>\n",
       "      <td>0.039548</td>\n",
       "      <td>0.009388</td>\n",
       "      <td>0.096569</td>\n",
       "      <td>0.086140</td>\n",
       "      <td>0.097051</td>\n",
       "      <td>0.036655</td>\n",
       "      <td>-0.059447</td>\n",
       "      <td>-0.005197</td>\n",
       "      <td>-0.111087</td>\n",
       "      <td>0.044074</td>\n",
       "    </tr>\n",
       "    <tr>\n",
       "      <th>88</th>\n",
       "      <td>2017-05-31</td>\n",
       "      <td>-0.013557</td>\n",
       "      <td>-0.027089</td>\n",
       "      <td>-0.050713</td>\n",
       "      <td>-0.052443</td>\n",
       "      <td>-0.132316</td>\n",
       "      <td>-0.013774</td>\n",
       "      <td>-0.071147</td>\n",
       "      <td>-0.045192</td>\n",
       "      <td>-0.031881</td>\n",
       "      <td>...</td>\n",
       "      <td>-0.042451</td>\n",
       "      <td>-0.032799</td>\n",
       "      <td>0.069729</td>\n",
       "      <td>-0.018660</td>\n",
       "      <td>-0.054422</td>\n",
       "      <td>0.071153</td>\n",
       "      <td>-0.083055</td>\n",
       "      <td>0.092917</td>\n",
       "      <td>-0.039052</td>\n",
       "      <td>-0.031945</td>\n",
       "    </tr>\n",
       "    <tr>\n",
       "      <th>89</th>\n",
       "      <td>2017-06-30</td>\n",
       "      <td>-0.022060</td>\n",
       "      <td>-0.098539</td>\n",
       "      <td>-0.016556</td>\n",
       "      <td>0.005218</td>\n",
       "      <td>-0.008810</td>\n",
       "      <td>-0.125433</td>\n",
       "      <td>-0.028937</td>\n",
       "      <td>0.069444</td>\n",
       "      <td>-0.055806</td>\n",
       "      <td>...</td>\n",
       "      <td>-0.001562</td>\n",
       "      <td>-0.055437</td>\n",
       "      <td>-0.062808</td>\n",
       "      <td>-0.019475</td>\n",
       "      <td>0.034172</td>\n",
       "      <td>-0.077723</td>\n",
       "      <td>-0.002616</td>\n",
       "      <td>0.020783</td>\n",
       "      <td>0.038300</td>\n",
       "      <td>0.011196</td>\n",
       "    </tr>\n",
       "    <tr>\n",
       "      <th>90</th>\n",
       "      <td>2017-07-31</td>\n",
       "      <td>0.036795</td>\n",
       "      <td>0.002527</td>\n",
       "      <td>0.059680</td>\n",
       "      <td>0.074563</td>\n",
       "      <td>0.135041</td>\n",
       "      <td>0.056864</td>\n",
       "      <td>0.038476</td>\n",
       "      <td>0.109808</td>\n",
       "      <td>0.023922</td>\n",
       "      <td>...</td>\n",
       "      <td>0.096860</td>\n",
       "      <td>0.089980</td>\n",
       "      <td>0.142830</td>\n",
       "      <td>0.001359</td>\n",
       "      <td>0.005916</td>\n",
       "      <td>0.064159</td>\n",
       "      <td>0.234903</td>\n",
       "      <td>0.084005</td>\n",
       "      <td>0.112443</td>\n",
       "      <td>0.027391</td>\n",
       "    </tr>\n",
       "    <tr>\n",
       "      <th>91</th>\n",
       "      <td>2017-08-31</td>\n",
       "      <td>0.032189</td>\n",
       "      <td>0.001031</td>\n",
       "      <td>0.101082</td>\n",
       "      <td>0.008990</td>\n",
       "      <td>0.010417</td>\n",
       "      <td>-0.035204</td>\n",
       "      <td>0.112929</td>\n",
       "      <td>0.046901</td>\n",
       "      <td>0.082138</td>\n",
       "      <td>...</td>\n",
       "      <td>0.073335</td>\n",
       "      <td>0.083564</td>\n",
       "      <td>0.011163</td>\n",
       "      <td>0.016842</td>\n",
       "      <td>0.026141</td>\n",
       "      <td>0.022422</td>\n",
       "      <td>0.116454</td>\n",
       "      <td>0.019769</td>\n",
       "      <td>0.171767</td>\n",
       "      <td>-0.005104</td>\n",
       "    </tr>\n",
       "  </tbody>\n",
       "</table>\n",
       "<p>92 rows × 55 columns</p>\n",
       "</div>"
      ],
      "text/plain": [
       "     month_end    Stock1   Stock10   Stock11   Stock14   Stock16   Stock18   \n",
       "0   2010-01-31  0.042603 -0.076059 -0.149741 -0.031251 -0.053032 -0.113752  \\\n",
       "1   2010-02-28 -0.015034 -0.100305 -0.023279  0.002484  0.077088  0.010849   \n",
       "2   2010-03-31  0.111545  0.097933  0.121501  0.064357  0.107439  0.017883   \n",
       "3   2010-04-30 -0.040491 -0.034262 -0.032848 -0.030232  0.022388  0.085504   \n",
       "4   2010-05-31 -0.069359 -0.073188  0.004349  0.010792 -0.025548 -0.001887   \n",
       "..         ...       ...       ...       ...       ...       ...       ...   \n",
       "87  2017-04-30  0.057631  0.089651 -0.090908 -0.045544  0.033207 -0.003331   \n",
       "88  2017-05-31 -0.013557 -0.027089 -0.050713 -0.052443 -0.132316 -0.013774   \n",
       "89  2017-06-30 -0.022060 -0.098539 -0.016556  0.005218 -0.008810 -0.125433   \n",
       "90  2017-07-31  0.036795  0.002527  0.059680  0.074563  0.135041  0.056864   \n",
       "91  2017-08-31  0.032189  0.001031  0.101082  0.008990  0.010417 -0.035204   \n",
       "\n",
       "     Stock19   Stock20   Stock21  ...   Stock78   Stock79   Stock80   Stock81   \n",
       "0  -0.071671  0.005430  0.005715  ... -0.028168  0.017445 -0.100000  0.018014  \\\n",
       "1   0.022383  0.095480  0.067745  ...  0.082448 -0.106195  0.066669  0.000556   \n",
       "2   0.000892  0.032425  0.018012  ...  0.036357  0.220049  0.098957  0.088889   \n",
       "3  -0.007159  0.052763  0.017920  ...  0.040579  0.004259 -0.052133  0.005099   \n",
       "4  -0.012534  0.068973 -0.026794  ... -0.025069 -0.062221  0.004332 -0.023857   \n",
       "..       ...       ...       ...  ...       ...       ...       ...       ...   \n",
       "87  0.036885 -0.017510  0.097012  ...  0.039548  0.009388  0.096569  0.086140   \n",
       "88 -0.071147 -0.045192 -0.031881  ... -0.042451 -0.032799  0.069729 -0.018660   \n",
       "89 -0.028937  0.069444 -0.055806  ... -0.001562 -0.055437 -0.062808 -0.019475   \n",
       "90  0.038476  0.109808  0.023922  ...  0.096860  0.089980  0.142830  0.001359   \n",
       "91  0.112929  0.046901  0.082138  ...  0.073335  0.083564  0.011163  0.016842   \n",
       "\n",
       "     Stock84   Stock85   Stock86   Stock87   Stock88    Stock9  \n",
       "0   0.044749  0.016824 -0.111084 -0.035229 -0.033204  0.030927  \n",
       "1  -0.010800  0.006326 -0.026405 -0.013759  0.095241 -0.010000  \n",
       "2   0.088630  0.047296  0.153527  0.034416  0.041795  0.024809  \n",
       "3  -0.016164  0.012845 -0.004702  0.019786  0.042046  0.030303  \n",
       "4  -0.085645 -0.041085 -0.083320  0.095238 -0.124253 -0.010784  \n",
       "..       ...       ...       ...       ...       ...       ...  \n",
       "87  0.097051  0.036655 -0.059447 -0.005197 -0.111087  0.044074  \n",
       "88 -0.054422  0.071153 -0.083055  0.092917 -0.039052 -0.031945  \n",
       "89  0.034172 -0.077723 -0.002616  0.020783  0.038300  0.011196  \n",
       "90  0.005916  0.064159  0.234903  0.084005  0.112443  0.027391  \n",
       "91  0.026141  0.022422  0.116454  0.019769  0.171767 -0.005104  \n",
       "\n",
       "[92 rows x 55 columns]"
      ]
     },
     "metadata": {},
     "output_type": "display_data"
    }
   ],
   "source": [
    "df = pd.read_csv(\n",
    "    \"C:\\\\Users\\\\terre\\OneDrive - University of Cape Town\\\\Terrence\\\\Code\\\\prescient-coding-challenge-2023\\\\data\\\\returns_train.csv\"\n",
    ")\n",
    "display(df)"
   ]
  },
  {
   "cell_type": "code",
   "execution_count": 6,
   "metadata": {},
   "outputs": [],
   "source": [
    "# data reads\n",
    "df_returns_train = pd.read_csv(\"data/returns_train.csv\")\n",
    "df_returns_test = pd.read_csv(\"data/returns_test.csv\")\n",
    "df_returns_train[\"month_end\"] = pd.to_datetime(arg=df_returns_train[\"month_end\"]).apply(\n",
    "    lambda d: d.date()\n",
    ")\n",
    "df_returns_test[\"month_end\"] = pd.to_datetime(arg=df_returns_test[\"month_end\"]).apply(\n",
    "    lambda d: d.date()\n",
    ")"
   ]
  },
  {
   "cell_type": "code",
   "execution_count": 7,
   "metadata": {},
   "outputs": [
    {
     "name": "stdout",
     "output_type": "stream",
     "text": [
      "['Stock1', 'Stock10', 'Stock11', 'Stock14', 'Stock16', 'Stock18', 'Stock19', 'Stock20', 'Stock21', 'Stock22', 'Stock26', 'Stock3', 'Stock30', 'Stock31', 'Stock33', 'Stock34', 'Stock35', 'Stock38', 'Stock39', 'Stock4', 'Stock40', 'Stock41', 'Stock43', 'Stock44', 'Stock46', 'Stock47', 'Stock49', 'Stock5', 'Stock50', 'Stock54', 'Stock56', 'Stock59', 'Stock6', 'Stock61', 'Stock63', 'Stock64', 'Stock66', 'Stock69', 'Stock7', 'Stock70', 'Stock73', 'Stock75', 'Stock76', 'Stock77', 'Stock78', 'Stock79', 'Stock80', 'Stock81', 'Stock84', 'Stock85', 'Stock86', 'Stock87', 'Stock88', 'Stock9']\n"
     ]
    },
    {
     "data": {
      "text/html": [
       "<div>\n",
       "<style scoped>\n",
       "    .dataframe tbody tr th:only-of-type {\n",
       "        vertical-align: middle;\n",
       "    }\n",
       "\n",
       "    .dataframe tbody tr th {\n",
       "        vertical-align: top;\n",
       "    }\n",
       "\n",
       "    .dataframe thead th {\n",
       "        text-align: right;\n",
       "    }\n",
       "</style>\n",
       "<table border=\"1\" class=\"dataframe\">\n",
       "  <thead>\n",
       "    <tr style=\"text-align: right;\">\n",
       "      <th></th>\n",
       "      <th>Stock1</th>\n",
       "      <th>Stock10</th>\n",
       "      <th>Stock11</th>\n",
       "      <th>Stock14</th>\n",
       "      <th>Stock16</th>\n",
       "      <th>Stock18</th>\n",
       "      <th>Stock19</th>\n",
       "      <th>Stock20</th>\n",
       "      <th>Stock21</th>\n",
       "      <th>Stock22</th>\n",
       "      <th>...</th>\n",
       "      <th>Stock78</th>\n",
       "      <th>Stock79</th>\n",
       "      <th>Stock80</th>\n",
       "      <th>Stock81</th>\n",
       "      <th>Stock84</th>\n",
       "      <th>Stock85</th>\n",
       "      <th>Stock86</th>\n",
       "      <th>Stock87</th>\n",
       "      <th>Stock88</th>\n",
       "      <th>Stock9</th>\n",
       "    </tr>\n",
       "  </thead>\n",
       "  <tbody>\n",
       "    <tr>\n",
       "      <th>0</th>\n",
       "      <td>0.042603</td>\n",
       "      <td>-0.076059</td>\n",
       "      <td>-0.149741</td>\n",
       "      <td>-0.031251</td>\n",
       "      <td>-0.053032</td>\n",
       "      <td>-0.113752</td>\n",
       "      <td>-0.071671</td>\n",
       "      <td>0.005430</td>\n",
       "      <td>0.005715</td>\n",
       "      <td>0.001399</td>\n",
       "      <td>...</td>\n",
       "      <td>-0.028168</td>\n",
       "      <td>0.017445</td>\n",
       "      <td>-0.100000</td>\n",
       "      <td>0.018014</td>\n",
       "      <td>0.044749</td>\n",
       "      <td>0.016824</td>\n",
       "      <td>-0.111084</td>\n",
       "      <td>-0.035229</td>\n",
       "      <td>-0.033204</td>\n",
       "      <td>0.030927</td>\n",
       "    </tr>\n",
       "    <tr>\n",
       "      <th>1</th>\n",
       "      <td>-0.015034</td>\n",
       "      <td>-0.100305</td>\n",
       "      <td>-0.023279</td>\n",
       "      <td>0.002484</td>\n",
       "      <td>0.077088</td>\n",
       "      <td>0.010849</td>\n",
       "      <td>0.022383</td>\n",
       "      <td>0.095480</td>\n",
       "      <td>0.067745</td>\n",
       "      <td>0.082493</td>\n",
       "      <td>...</td>\n",
       "      <td>0.082448</td>\n",
       "      <td>-0.106195</td>\n",
       "      <td>0.066669</td>\n",
       "      <td>0.000556</td>\n",
       "      <td>-0.010800</td>\n",
       "      <td>0.006326</td>\n",
       "      <td>-0.026405</td>\n",
       "      <td>-0.013759</td>\n",
       "      <td>0.095241</td>\n",
       "      <td>-0.010000</td>\n",
       "    </tr>\n",
       "    <tr>\n",
       "      <th>2</th>\n",
       "      <td>0.111545</td>\n",
       "      <td>0.097933</td>\n",
       "      <td>0.121501</td>\n",
       "      <td>0.064357</td>\n",
       "      <td>0.107439</td>\n",
       "      <td>0.017883</td>\n",
       "      <td>0.000892</td>\n",
       "      <td>0.032425</td>\n",
       "      <td>0.018012</td>\n",
       "      <td>0.031663</td>\n",
       "      <td>...</td>\n",
       "      <td>0.036357</td>\n",
       "      <td>0.220049</td>\n",
       "      <td>0.098957</td>\n",
       "      <td>0.088889</td>\n",
       "      <td>0.088630</td>\n",
       "      <td>0.047296</td>\n",
       "      <td>0.153527</td>\n",
       "      <td>0.034416</td>\n",
       "      <td>0.041795</td>\n",
       "      <td>0.024809</td>\n",
       "    </tr>\n",
       "    <tr>\n",
       "      <th>3</th>\n",
       "      <td>-0.040491</td>\n",
       "      <td>-0.034262</td>\n",
       "      <td>-0.032848</td>\n",
       "      <td>-0.030232</td>\n",
       "      <td>0.022388</td>\n",
       "      <td>0.085504</td>\n",
       "      <td>-0.007159</td>\n",
       "      <td>0.052763</td>\n",
       "      <td>0.017920</td>\n",
       "      <td>0.007674</td>\n",
       "      <td>...</td>\n",
       "      <td>0.040579</td>\n",
       "      <td>0.004259</td>\n",
       "      <td>-0.052133</td>\n",
       "      <td>0.005099</td>\n",
       "      <td>-0.016164</td>\n",
       "      <td>0.012845</td>\n",
       "      <td>-0.004702</td>\n",
       "      <td>0.019786</td>\n",
       "      <td>0.042046</td>\n",
       "      <td>0.030303</td>\n",
       "    </tr>\n",
       "    <tr>\n",
       "      <th>4</th>\n",
       "      <td>-0.069359</td>\n",
       "      <td>-0.073188</td>\n",
       "      <td>0.004349</td>\n",
       "      <td>0.010792</td>\n",
       "      <td>-0.025548</td>\n",
       "      <td>-0.001887</td>\n",
       "      <td>-0.012534</td>\n",
       "      <td>0.068973</td>\n",
       "      <td>-0.026794</td>\n",
       "      <td>-0.056697</td>\n",
       "      <td>...</td>\n",
       "      <td>-0.025069</td>\n",
       "      <td>-0.062221</td>\n",
       "      <td>0.004332</td>\n",
       "      <td>-0.023857</td>\n",
       "      <td>-0.085645</td>\n",
       "      <td>-0.041085</td>\n",
       "      <td>-0.083320</td>\n",
       "      <td>0.095238</td>\n",
       "      <td>-0.124253</td>\n",
       "      <td>-0.010784</td>\n",
       "    </tr>\n",
       "    <tr>\n",
       "      <th>...</th>\n",
       "      <td>...</td>\n",
       "      <td>...</td>\n",
       "      <td>...</td>\n",
       "      <td>...</td>\n",
       "      <td>...</td>\n",
       "      <td>...</td>\n",
       "      <td>...</td>\n",
       "      <td>...</td>\n",
       "      <td>...</td>\n",
       "      <td>...</td>\n",
       "      <td>...</td>\n",
       "      <td>...</td>\n",
       "      <td>...</td>\n",
       "      <td>...</td>\n",
       "      <td>...</td>\n",
       "      <td>...</td>\n",
       "      <td>...</td>\n",
       "      <td>...</td>\n",
       "      <td>...</td>\n",
       "      <td>...</td>\n",
       "      <td>...</td>\n",
       "    </tr>\n",
       "    <tr>\n",
       "      <th>87</th>\n",
       "      <td>0.057631</td>\n",
       "      <td>0.089651</td>\n",
       "      <td>-0.090908</td>\n",
       "      <td>-0.045544</td>\n",
       "      <td>0.033207</td>\n",
       "      <td>-0.003331</td>\n",
       "      <td>0.036885</td>\n",
       "      <td>-0.017510</td>\n",
       "      <td>0.097012</td>\n",
       "      <td>-0.000908</td>\n",
       "      <td>...</td>\n",
       "      <td>0.039548</td>\n",
       "      <td>0.009388</td>\n",
       "      <td>0.096569</td>\n",
       "      <td>0.086140</td>\n",
       "      <td>0.097051</td>\n",
       "      <td>0.036655</td>\n",
       "      <td>-0.059447</td>\n",
       "      <td>-0.005197</td>\n",
       "      <td>-0.111087</td>\n",
       "      <td>0.044074</td>\n",
       "    </tr>\n",
       "    <tr>\n",
       "      <th>88</th>\n",
       "      <td>-0.013557</td>\n",
       "      <td>-0.027089</td>\n",
       "      <td>-0.050713</td>\n",
       "      <td>-0.052443</td>\n",
       "      <td>-0.132316</td>\n",
       "      <td>-0.013774</td>\n",
       "      <td>-0.071147</td>\n",
       "      <td>-0.045192</td>\n",
       "      <td>-0.031881</td>\n",
       "      <td>-0.000167</td>\n",
       "      <td>...</td>\n",
       "      <td>-0.042451</td>\n",
       "      <td>-0.032799</td>\n",
       "      <td>0.069729</td>\n",
       "      <td>-0.018660</td>\n",
       "      <td>-0.054422</td>\n",
       "      <td>0.071153</td>\n",
       "      <td>-0.083055</td>\n",
       "      <td>0.092917</td>\n",
       "      <td>-0.039052</td>\n",
       "      <td>-0.031945</td>\n",
       "    </tr>\n",
       "    <tr>\n",
       "      <th>89</th>\n",
       "      <td>-0.022060</td>\n",
       "      <td>-0.098539</td>\n",
       "      <td>-0.016556</td>\n",
       "      <td>0.005218</td>\n",
       "      <td>-0.008810</td>\n",
       "      <td>-0.125433</td>\n",
       "      <td>-0.028937</td>\n",
       "      <td>0.069444</td>\n",
       "      <td>-0.055806</td>\n",
       "      <td>-0.002845</td>\n",
       "      <td>...</td>\n",
       "      <td>-0.001562</td>\n",
       "      <td>-0.055437</td>\n",
       "      <td>-0.062808</td>\n",
       "      <td>-0.019475</td>\n",
       "      <td>0.034172</td>\n",
       "      <td>-0.077723</td>\n",
       "      <td>-0.002616</td>\n",
       "      <td>0.020783</td>\n",
       "      <td>0.038300</td>\n",
       "      <td>0.011196</td>\n",
       "    </tr>\n",
       "    <tr>\n",
       "      <th>90</th>\n",
       "      <td>0.036795</td>\n",
       "      <td>0.002527</td>\n",
       "      <td>0.059680</td>\n",
       "      <td>0.074563</td>\n",
       "      <td>0.135041</td>\n",
       "      <td>0.056864</td>\n",
       "      <td>0.038476</td>\n",
       "      <td>0.109808</td>\n",
       "      <td>0.023922</td>\n",
       "      <td>0.023766</td>\n",
       "      <td>...</td>\n",
       "      <td>0.096860</td>\n",
       "      <td>0.089980</td>\n",
       "      <td>0.142830</td>\n",
       "      <td>0.001359</td>\n",
       "      <td>0.005916</td>\n",
       "      <td>0.064159</td>\n",
       "      <td>0.234903</td>\n",
       "      <td>0.084005</td>\n",
       "      <td>0.112443</td>\n",
       "      <td>0.027391</td>\n",
       "    </tr>\n",
       "    <tr>\n",
       "      <th>91</th>\n",
       "      <td>0.032189</td>\n",
       "      <td>0.001031</td>\n",
       "      <td>0.101082</td>\n",
       "      <td>0.008990</td>\n",
       "      <td>0.010417</td>\n",
       "      <td>-0.035204</td>\n",
       "      <td>0.112929</td>\n",
       "      <td>0.046901</td>\n",
       "      <td>0.082138</td>\n",
       "      <td>-0.010214</td>\n",
       "      <td>...</td>\n",
       "      <td>0.073335</td>\n",
       "      <td>0.083564</td>\n",
       "      <td>0.011163</td>\n",
       "      <td>0.016842</td>\n",
       "      <td>0.026141</td>\n",
       "      <td>0.022422</td>\n",
       "      <td>0.116454</td>\n",
       "      <td>0.019769</td>\n",
       "      <td>0.171767</td>\n",
       "      <td>-0.005104</td>\n",
       "    </tr>\n",
       "  </tbody>\n",
       "</table>\n",
       "<p>92 rows × 54 columns</p>\n",
       "</div>"
      ],
      "text/plain": [
       "      Stock1   Stock10   Stock11   Stock14   Stock16   Stock18   Stock19   \n",
       "0   0.042603 -0.076059 -0.149741 -0.031251 -0.053032 -0.113752 -0.071671  \\\n",
       "1  -0.015034 -0.100305 -0.023279  0.002484  0.077088  0.010849  0.022383   \n",
       "2   0.111545  0.097933  0.121501  0.064357  0.107439  0.017883  0.000892   \n",
       "3  -0.040491 -0.034262 -0.032848 -0.030232  0.022388  0.085504 -0.007159   \n",
       "4  -0.069359 -0.073188  0.004349  0.010792 -0.025548 -0.001887 -0.012534   \n",
       "..       ...       ...       ...       ...       ...       ...       ...   \n",
       "87  0.057631  0.089651 -0.090908 -0.045544  0.033207 -0.003331  0.036885   \n",
       "88 -0.013557 -0.027089 -0.050713 -0.052443 -0.132316 -0.013774 -0.071147   \n",
       "89 -0.022060 -0.098539 -0.016556  0.005218 -0.008810 -0.125433 -0.028937   \n",
       "90  0.036795  0.002527  0.059680  0.074563  0.135041  0.056864  0.038476   \n",
       "91  0.032189  0.001031  0.101082  0.008990  0.010417 -0.035204  0.112929   \n",
       "\n",
       "     Stock20   Stock21   Stock22  ...   Stock78   Stock79   Stock80   Stock81   \n",
       "0   0.005430  0.005715  0.001399  ... -0.028168  0.017445 -0.100000  0.018014  \\\n",
       "1   0.095480  0.067745  0.082493  ...  0.082448 -0.106195  0.066669  0.000556   \n",
       "2   0.032425  0.018012  0.031663  ...  0.036357  0.220049  0.098957  0.088889   \n",
       "3   0.052763  0.017920  0.007674  ...  0.040579  0.004259 -0.052133  0.005099   \n",
       "4   0.068973 -0.026794 -0.056697  ... -0.025069 -0.062221  0.004332 -0.023857   \n",
       "..       ...       ...       ...  ...       ...       ...       ...       ...   \n",
       "87 -0.017510  0.097012 -0.000908  ...  0.039548  0.009388  0.096569  0.086140   \n",
       "88 -0.045192 -0.031881 -0.000167  ... -0.042451 -0.032799  0.069729 -0.018660   \n",
       "89  0.069444 -0.055806 -0.002845  ... -0.001562 -0.055437 -0.062808 -0.019475   \n",
       "90  0.109808  0.023922  0.023766  ...  0.096860  0.089980  0.142830  0.001359   \n",
       "91  0.046901  0.082138 -0.010214  ...  0.073335  0.083564  0.011163  0.016842   \n",
       "\n",
       "     Stock84   Stock85   Stock86   Stock87   Stock88    Stock9  \n",
       "0   0.044749  0.016824 -0.111084 -0.035229 -0.033204  0.030927  \n",
       "1  -0.010800  0.006326 -0.026405 -0.013759  0.095241 -0.010000  \n",
       "2   0.088630  0.047296  0.153527  0.034416  0.041795  0.024809  \n",
       "3  -0.016164  0.012845 -0.004702  0.019786  0.042046  0.030303  \n",
       "4  -0.085645 -0.041085 -0.083320  0.095238 -0.124253 -0.010784  \n",
       "..       ...       ...       ...       ...       ...       ...  \n",
       "87  0.097051  0.036655 -0.059447 -0.005197 -0.111087  0.044074  \n",
       "88 -0.054422  0.071153 -0.083055  0.092917 -0.039052 -0.031945  \n",
       "89  0.034172 -0.077723 -0.002616  0.020783  0.038300  0.011196  \n",
       "90  0.005916  0.064159  0.234903  0.084005  0.112443  0.027391  \n",
       "91  0.026141  0.022422  0.116454  0.019769  0.171767 -0.005104  \n",
       "\n",
       "[92 rows x 54 columns]"
      ]
     },
     "execution_count": 7,
     "metadata": {},
     "output_type": "execute_result"
    }
   ],
   "source": [
    "# Ignoring the month_end from training set\n",
    "\n",
    "# Get column names as a list but ignore the first column\n",
    "header_list = df.columns[1:].tolist()\n",
    "print(header_list)\n",
    "\n",
    "\n",
    "def process_dataframe(dataframe):\n",
    "    # Create a new dataframe without the 'month_end' column\n",
    "    new_dataframe = dataframe.drop([\"month_end\"], axis=1)\n",
    "    return new_dataframe\n",
    "\n",
    "\n",
    "clean_df = process_dataframe(df_returns_train)\n",
    "clean_df"
   ]
  },
  {
   "cell_type": "code",
   "execution_count": 8,
   "metadata": {},
   "outputs": [],
   "source": [
    "def equalise_weights(df: pd.DataFrame):\n",
    "    \"\"\"\n",
    "    Function to generate the equal weights, i.e. 1/p for each active stock within a month\n",
    "\n",
    "    Args:\n",
    "        df: A return data frame. First column is month end and remaining columns are stocks\n",
    "\n",
    "    Returns:\n",
    "        A dataframe of the same dimension but with values 1/p on active funds within a month\n",
    "\n",
    "    \"\"\"\n",
    "\n",
    "    # create df to house weights\n",
    "    n_length = len(df)\n",
    "    df_returns = df\n",
    "    df_weights = df_returns[:n_length].copy()\n",
    "    df_weights.set_index(\"month_end\", inplace=True)\n",
    "\n",
    "    # list of stock names\n",
    "    list_stocks = list(df_returns.columns)\n",
    "    list_stocks.remove(\"month_end\")\n",
    "\n",
    "    # assign 1/p\n",
    "    df_weights[list_stocks] = 1 / len(list_stocks)\n",
    "\n",
    "    return df_weights"
   ]
  },
  {
   "cell_type": "code",
   "execution_count": 9,
   "metadata": {},
   "outputs": [
    {
     "name": "stdout",
     "output_type": "stream",
     "text": [
      "Epoch 1/50\n",
      "2/2 [==============================] - 10s 2s/step - loss: 0.2509 - val_loss: 0.2397\n",
      "Epoch 2/50\n",
      "2/2 [==============================] - 0s 105ms/step - loss: 0.2147 - val_loss: 0.2121\n",
      "Epoch 3/50\n",
      "2/2 [==============================] - 0s 117ms/step - loss: 0.1903 - val_loss: 0.1808\n",
      "Epoch 4/50\n",
      "2/2 [==============================] - 0s 96ms/step - loss: 0.1641 - val_loss: 0.1486\n",
      "Epoch 5/50\n",
      "2/2 [==============================] - 0s 96ms/step - loss: 0.1360 - val_loss: 0.1195\n",
      "Epoch 6/50\n",
      "2/2 [==============================] - 0s 100ms/step - loss: 0.1208 - val_loss: 0.0971\n",
      "Epoch 7/50\n",
      "2/2 [==============================] - 0s 100ms/step - loss: 0.1078 - val_loss: 0.0818\n",
      "Epoch 8/50\n",
      "2/2 [==============================] - 0s 112ms/step - loss: 0.0949 - val_loss: 0.0715\n",
      "Epoch 9/50\n",
      "2/2 [==============================] - 0s 100ms/step - loss: 0.0883 - val_loss: 0.0639\n",
      "Epoch 10/50\n",
      "2/2 [==============================] - 0s 95ms/step - loss: 0.0831 - val_loss: 0.0575\n",
      "Epoch 11/50\n",
      "2/2 [==============================] - 0s 110ms/step - loss: 0.0875 - val_loss: 0.0530\n",
      "Epoch 12/50\n",
      "2/2 [==============================] - 0s 103ms/step - loss: 0.0811 - val_loss: 0.0515\n",
      "Epoch 13/50\n",
      "2/2 [==============================] - 0s 104ms/step - loss: 0.0749 - val_loss: 0.0518\n",
      "Epoch 14/50\n",
      "2/2 [==============================] - 0s 108ms/step - loss: 0.0713 - val_loss: 0.0506\n",
      "Epoch 15/50\n",
      "2/2 [==============================] - 0s 100ms/step - loss: 0.0681 - val_loss: 0.0487\n",
      "Epoch 16/50\n",
      "2/2 [==============================] - 0s 98ms/step - loss: 0.0710 - val_loss: 0.0490\n",
      "Epoch 17/50\n",
      "2/2 [==============================] - 0s 108ms/step - loss: 0.0638 - val_loss: 0.0493\n",
      "Epoch 18/50\n",
      "2/2 [==============================] - 0s 108ms/step - loss: 0.0657 - val_loss: 0.0488\n",
      "Epoch 19/50\n",
      "2/2 [==============================] - 0s 104ms/step - loss: 0.0716 - val_loss: 0.0481\n",
      "Epoch 20/50\n",
      "2/2 [==============================] - 0s 105ms/step - loss: 0.0637 - val_loss: 0.0471\n",
      "Epoch 21/50\n",
      "2/2 [==============================] - 0s 105ms/step - loss: 0.0627 - val_loss: 0.0468\n",
      "Epoch 22/50\n",
      "2/2 [==============================] - 0s 102ms/step - loss: 0.0602 - val_loss: 0.0474\n",
      "Epoch 23/50\n",
      "2/2 [==============================] - 0s 104ms/step - loss: 0.0602 - val_loss: 0.0491\n",
      "Epoch 24/50\n",
      "2/2 [==============================] - 0s 108ms/step - loss: 0.0628 - val_loss: 0.0494\n",
      "Epoch 25/50\n",
      "2/2 [==============================] - 0s 97ms/step - loss: 0.0612 - val_loss: 0.0483\n",
      "Epoch 26/50\n",
      "2/2 [==============================] - 0s 112ms/step - loss: 0.0612 - val_loss: 0.0471\n",
      "Epoch 27/50\n",
      "2/2 [==============================] - 0s 102ms/step - loss: 0.0645 - val_loss: 0.0476\n",
      "Epoch 28/50\n",
      "2/2 [==============================] - 0s 102ms/step - loss: 0.0639 - val_loss: 0.0469\n",
      "Epoch 29/50\n",
      "2/2 [==============================] - 0s 111ms/step - loss: 0.0590 - val_loss: 0.0468\n",
      "Epoch 30/50\n",
      "2/2 [==============================] - 0s 112ms/step - loss: 0.0622 - val_loss: 0.0467\n",
      "Epoch 31/50\n",
      "2/2 [==============================] - 0s 103ms/step - loss: 0.0599 - val_loss: 0.0466\n",
      "Epoch 32/50\n",
      "2/2 [==============================] - 0s 106ms/step - loss: 0.0624 - val_loss: 0.0470\n",
      "Epoch 33/50\n",
      "2/2 [==============================] - 0s 109ms/step - loss: 0.0562 - val_loss: 0.0482\n",
      "Epoch 34/50\n",
      "2/2 [==============================] - 0s 105ms/step - loss: 0.0608 - val_loss: 0.0503\n",
      "Epoch 35/50\n",
      "2/2 [==============================] - 0s 102ms/step - loss: 0.0577 - val_loss: 0.0526\n",
      "Epoch 36/50\n",
      "2/2 [==============================] - 0s 109ms/step - loss: 0.0533 - val_loss: 0.0491\n",
      "Epoch 37/50\n",
      "2/2 [==============================] - 0s 108ms/step - loss: 0.0571 - val_loss: 0.0460\n",
      "Epoch 38/50\n",
      "2/2 [==============================] - 0s 107ms/step - loss: 0.0573 - val_loss: 0.0454\n",
      "Epoch 39/50\n",
      "2/2 [==============================] - 0s 106ms/step - loss: 0.0586 - val_loss: 0.0456\n",
      "Epoch 40/50\n",
      "2/2 [==============================] - 0s 97ms/step - loss: 0.0576 - val_loss: 0.0463\n",
      "Epoch 41/50\n",
      "2/2 [==============================] - 0s 104ms/step - loss: 0.0551 - val_loss: 0.0471\n",
      "Epoch 42/50\n",
      "2/2 [==============================] - 0s 104ms/step - loss: 0.0578 - val_loss: 0.0476\n",
      "Epoch 43/50\n",
      "2/2 [==============================] - 0s 97ms/step - loss: 0.0584 - val_loss: 0.0464\n",
      "Epoch 44/50\n",
      "2/2 [==============================] - 0s 100ms/step - loss: 0.0577 - val_loss: 0.0451\n",
      "Epoch 45/50\n",
      "2/2 [==============================] - 0s 100ms/step - loss: 0.0546 - val_loss: 0.0449\n",
      "Epoch 46/50\n",
      "2/2 [==============================] - 0s 100ms/step - loss: 0.0561 - val_loss: 0.0454\n",
      "Epoch 47/50\n",
      "2/2 [==============================] - 0s 108ms/step - loss: 0.0594 - val_loss: 0.0467\n",
      "Epoch 48/50\n",
      "2/2 [==============================] - 0s 108ms/step - loss: 0.0540 - val_loss: 0.0466\n",
      "Epoch 49/50\n",
      "2/2 [==============================] - 0s 100ms/step - loss: 0.0555 - val_loss: 0.0464\n",
      "Epoch 50/50\n",
      "2/2 [==============================] - 0s 93ms/step - loss: 0.0568 - val_loss: 0.0460\n"
     ]
    },
    {
     "data": {
      "text/plain": [
       "<keras.callbacks.History at 0x1d686628dc0>"
      ]
     },
     "execution_count": 9,
     "metadata": {},
     "output_type": "execute_result"
    }
   ],
   "source": [
    "# Normalization\n",
    "scaler = MinMaxScaler(feature_range=(0, 1))\n",
    "scaled_data = scaler.fit_transform(clean_df.values)\n",
    "\n",
    "# Create a data structure with 60 time-steps and 1 output for each stock\n",
    "lookback = 60\n",
    "\n",
    "X, y = [], []\n",
    "for i in range(lookback, len(scaled_data)):\n",
    "    X.append(scaled_data[i - lookback : i])\n",
    "    y.append(scaled_data[i])\n",
    "X, y = np.array(X), np.array(y)\n",
    "\n",
    "# Split the data into training and validation sets\n",
    "X_train, X_val, y_train, y_val = train_test_split(X, y, test_size=0.2, random_state=42)\n",
    "\n",
    "# Initialize the LSTM model\n",
    "model = Sequential()\n",
    "\n",
    "model.add(\n",
    "    LSTM(\n",
    "        units=50,\n",
    "        return_sequences=True,\n",
    "        input_shape=(X_train.shape[1], X_train.shape[2]),\n",
    "    )\n",
    ")\n",
    "model.add(Dropout(0.2))\n",
    "\n",
    "model.add(LSTM(units=50, return_sequences=True))\n",
    "model.add(Dropout(0.2))\n",
    "\n",
    "model.add(LSTM(units=50, return_sequences=True))\n",
    "model.add(Dropout(0.2))\n",
    "\n",
    "model.add(LSTM(units=50))\n",
    "model.add(Dropout(0.2))\n",
    "\n",
    "model.add(\n",
    "    Dense(units=clean_df.shape[1])\n",
    ")  # number of units in the output layer should be equal to the number of stocks\n",
    "\n",
    "# Compile and train the model\n",
    "model.compile(optimizer=\"adam\", loss=\"mean_squared_error\")\n",
    "model.fit(X_train, y_train, epochs=50, batch_size=20, validation_data=(X_val, y_val))"
   ]
  },
  {
   "cell_type": "code",
   "execution_count": 10,
   "metadata": {},
   "outputs": [],
   "source": [
    "def generate_portfolio(df_train: pd.DataFrame, df_test: pd.DataFrame):\n",
    "    \"\"\"\n",
    "    Function to generate stocks weight allocation for time t+1 using historic data. Initial weights generated as 1/p for active stock within a month\n",
    "\n",
    "    Args:\n",
    "        df_train: The training set of returns. First column is month end and remaining columns are stocks\n",
    "        df_test: The testing set of returns. First column is month end and remaining columns are stocks\n",
    "\n",
    "    Returns:\n",
    "        The returns dataframe and the weights\n",
    "    \"\"\"\n",
    "\n",
    "    print(\n",
    "        \"---> training set spans\",\n",
    "        df_train[\"month_end\"].min(),\n",
    "        df_train[\"month_end\"].max(),\n",
    "    )\n",
    "    print(\n",
    "        \"---> training set spans\",\n",
    "        df_test[\"month_end\"].min(),\n",
    "        df_test[\"month_end\"].max(),\n",
    "    )\n",
    "\n",
    "    # initialise data\n",
    "    n_train = len(df_train)\n",
    "    df_returns = pd.concat(objs=[df_train, df_test], ignore_index=True)\n",
    "\n",
    "    df_weights = equalise_weights(\n",
    "        df_returns[:n_train]\n",
    "    )  # df to store weights and create initial\n",
    "\n",
    "    # list of stock names\n",
    "    list_stocks = list(df_returns.columns)\n",
    "    list_stocks.remove(\"month_end\")\n",
    "\n",
    "    # Only positive predicted stock are considered\n",
    "    # Higher volitility have higher weighting\n",
    "    # Higher prediction through my machine learning algorithm (LSTM) will have higher weighting\n",
    "    for i in range(len(df_test)):\n",
    "        df_latest = df_returns[(df_returns[\"month_end\"] < df_test.loc[i, \"month_end\"])]\n",
    "\n",
    "        if len(df_latest) >= lookback:\n",
    "            latest_returns = df_latest[-lookback:][list_stocks].values\n",
    "        else:\n",
    "            continue\n",
    "\n",
    "        # reshape the latest returns to be suitable for the LSTM model\n",
    "        latest_returns = np.reshape(latest_returns, (1, lookback, len(list_stocks)))\n",
    "\n",
    "        # predict the future returns using the LSTM model\n",
    "        predicted_returns = model.predict(latest_returns)\n",
    "\n",
    "        # Filter out the stocks with positive predicted returns\n",
    "        positive_returns_indices = np.where(predicted_returns[0] > 0)[0]\n",
    "        positive_returns = predicted_returns[0][positive_returns_indices]\n",
    "        positive_stock_names = np.array(list_stocks)[positive_returns_indices]\n",
    "\n",
    "        # Apply exponential weighting to the positive returns\n",
    "        exp_returns = np.exp(positive_returns)\n",
    "\n",
    "        # Calculate the recent volatility for each stock\n",
    "        volatilities = np.std(latest_returns[0], axis=0)\n",
    "\n",
    "        # Scale the weights of each stock correspondto its recent volatility\n",
    "        volatility_scaled_weights = exp_returns * volatilities[positive_returns_indices]\n",
    "\n",
    "        # Normalize the weights to sum to 1\n",
    "        weights = volatility_scaled_weights / np.sum(volatility_scaled_weights)\n",
    "\n",
    "        # Create a new weight dataframe\n",
    "        weights_dict = dict(zip(positive_stock_names, weights))\n",
    "        weights_dict[\"month_end\"] = df_test.loc[i, \"month_end\"]\n",
    "        df_this = pd.DataFrame(data=[weights_dict], columns=df_weights.columns)\n",
    "        df_this = df_this.fillna(0)  # fill NaNs for stocks that have been excluded\n",
    "\n",
    "        # Append the weights to the df_weights dataframe\n",
    "        df_weights = pd.concat(objs=[df_weights, df_this], ignore_index=True)\n",
    "\n",
    "    # 10% limit check\n",
    "    if len(\n",
    "        np.array(df_weights[list_stocks])[np.array(df_weights[list_stocks]) > 0.101]\n",
    "    ):\n",
    "        raise Exception(r\"---> 10% limit exceeded\")\n",
    "\n",
    "    return df_returns, df_weights"
   ]
  },
  {
   "cell_type": "code",
   "execution_count": 11,
   "metadata": {},
   "outputs": [],
   "source": [
    "def plot_total_return(\n",
    "    df_returns: pd.DataFrame,\n",
    "    df_weights_index: pd.DataFrame,\n",
    "    df_weights_portfolio: pd.DataFrame,\n",
    "):\n",
    "    \"\"\"\n",
    "    Function to generate the two total return indices.\n",
    "\n",
    "    Args:\n",
    "        df_returns: Ascending date ordered combined training and test returns data.\n",
    "        df_weights_index: Index weights. Equally weighted\n",
    "        df_weights_index: Portfolio weights. Your portfolio should use equally weighted for the training date range. If blank will be ignored\n",
    "\n",
    "    Returns:\n",
    "        A plot of the two total return indices and the total return indices as a dataframe\n",
    "    \"\"\"\n",
    "\n",
    "    # list of stock names\n",
    "    list_stocks = list(df_returns.columns)\n",
    "    list_stocks.remove(\"month_end\")\n",
    "\n",
    "    # replace nans with 0 in return array\n",
    "    ar_returns = np.array(df_returns[list_stocks])\n",
    "    np.nan_to_num(x=ar_returns, copy=False, nan=0)\n",
    "\n",
    "    # calc index\n",
    "    ar_rtn_index = np.array(df_weights_index[list_stocks]) * ar_returns\n",
    "    ar_rtn_port = np.array(df_weights_portfolio[list_stocks]) * ar_returns\n",
    "\n",
    "    v_rtn_index = np.sum(ar_rtn_index, axis=1)\n",
    "    v_rtn_port = np.sum(ar_rtn_port, axis=1)\n",
    "\n",
    "    # add return series to dataframe\n",
    "    df_rtn = pd.DataFrame(data=df_returns[\"month_end\"], columns=[\"month_end\"])\n",
    "    df_rtn[\"index\"] = v_rtn_index\n",
    "    df_rtn[\"portfolio\"] = v_rtn_port\n",
    "    df_rtn\n",
    "\n",
    "    # create total return\n",
    "    base_price = 100\n",
    "    df_rtn.sort_values(by=\"month_end\", inplace=True)\n",
    "    df_rtn[\"index_tr\"] = ((1 + df_rtn[\"index\"]).cumprod()) * base_price\n",
    "    df_rtn[\"portfolio_tr\"] = ((1 + df_rtn[\"portfolio\"]).cumprod()) * base_price\n",
    "    df_rtn\n",
    "\n",
    "    df_rtn_long = df_rtn[[\"month_end\", \"index_tr\", \"portfolio_tr\"]].melt(\n",
    "        id_vars=\"month_end\", var_name=\"series\", value_name=\"Total Return\"\n",
    "    )\n",
    "\n",
    "    # plot\n",
    "    fig1 = px.line(\n",
    "        data_frame=df_rtn_long, x=\"month_end\", y=\"Total Return\", color=\"series\"\n",
    "    )\n",
    "\n",
    "    return fig1, df_rtn"
   ]
  },
  {
   "cell_type": "code",
   "execution_count": 12,
   "metadata": {},
   "outputs": [
    {
     "name": "stdout",
     "output_type": "stream",
     "text": [
      "---> training set spans 2010-01-31 2017-08-31\n",
      "---> training set spans 2017-09-30 2022-09-30\n",
      "1/1 [==============================] - 1s 1s/step\n",
      "1/1 [==============================] - 0s 33ms/step\n",
      "1/1 [==============================] - 0s 27ms/step\n",
      "1/1 [==============================] - 0s 28ms/step\n",
      "1/1 [==============================] - 0s 30ms/step\n",
      "1/1 [==============================] - 0s 28ms/step\n",
      "1/1 [==============================] - 0s 29ms/step\n",
      "1/1 [==============================] - 0s 32ms/step\n",
      "1/1 [==============================] - 0s 31ms/step\n",
      "1/1 [==============================] - 0s 33ms/step\n",
      "1/1 [==============================] - 0s 32ms/step\n",
      "1/1 [==============================] - 0s 32ms/step\n",
      "1/1 [==============================] - 0s 28ms/step\n",
      "1/1 [==============================] - 0s 28ms/step\n",
      "1/1 [==============================] - 0s 32ms/step\n",
      "1/1 [==============================] - 0s 29ms/step\n",
      "1/1 [==============================] - 0s 32ms/step\n",
      "1/1 [==============================] - 0s 33ms/step\n",
      "1/1 [==============================] - 0s 34ms/step\n",
      "1/1 [==============================] - 0s 32ms/step\n",
      "1/1 [==============================] - 0s 31ms/step\n",
      "1/1 [==============================] - 0s 32ms/step\n",
      "1/1 [==============================] - 0s 33ms/step\n",
      "1/1 [==============================] - 0s 28ms/step\n",
      "1/1 [==============================] - 0s 28ms/step\n",
      "1/1 [==============================] - 0s 32ms/step\n",
      "1/1 [==============================] - 0s 44ms/step\n",
      "1/1 [==============================] - 0s 32ms/step\n",
      "1/1 [==============================] - 0s 28ms/step\n",
      "1/1 [==============================] - 0s 32ms/step\n",
      "1/1 [==============================] - 0s 26ms/step\n",
      "1/1 [==============================] - 0s 32ms/step\n",
      "1/1 [==============================] - 0s 33ms/step\n",
      "1/1 [==============================] - 0s 29ms/step\n",
      "1/1 [==============================] - 0s 30ms/step\n",
      "1/1 [==============================] - 0s 29ms/step\n",
      "1/1 [==============================] - 0s 28ms/step\n",
      "1/1 [==============================] - 0s 33ms/step\n",
      "1/1 [==============================] - 0s 32ms/step\n",
      "1/1 [==============================] - 0s 32ms/step\n",
      "1/1 [==============================] - 0s 31ms/step\n",
      "1/1 [==============================] - 0s 32ms/step\n",
      "1/1 [==============================] - 0s 32ms/step\n",
      "1/1 [==============================] - 0s 27ms/step\n",
      "1/1 [==============================] - 0s 28ms/step\n",
      "1/1 [==============================] - 0s 28ms/step\n",
      "1/1 [==============================] - 0s 31ms/step\n",
      "1/1 [==============================] - 0s 32ms/step\n",
      "1/1 [==============================] - 0s 28ms/step\n",
      "1/1 [==============================] - 0s 28ms/step\n",
      "1/1 [==============================] - 0s 28ms/step\n",
      "1/1 [==============================] - 0s 32ms/step\n",
      "1/1 [==============================] - 0s 32ms/step\n",
      "1/1 [==============================] - 0s 36ms/step\n",
      "1/1 [==============================] - 0s 32ms/step\n",
      "1/1 [==============================] - 0s 33ms/step\n",
      "1/1 [==============================] - 0s 31ms/step\n",
      "1/1 [==============================] - 0s 28ms/step\n",
      "1/1 [==============================] - 0s 36ms/step\n",
      "1/1 [==============================] - 0s 32ms/step\n",
      "1/1 [==============================] - 0s 29ms/step\n"
     ]
    },
    {
     "data": {
      "application/vnd.plotly.v1+json": {
       "config": {
        "plotlyServerURL": "https://plot.ly"
       },
       "data": [
        {
         "hovertemplate": "series=index_tr<br>month_end=%{x}<br>Total Return=%{y}<extra></extra>",
         "legendgroup": "index_tr",
         "line": {
          "color": "#636efa",
          "dash": "solid"
         },
         "marker": {
          "symbol": "circle"
         },
         "mode": "lines",
         "name": "index_tr",
         "orientation": "v",
         "showlegend": true,
         "type": "scatter",
         "x": [
          "2010-01-31",
          "2010-02-28",
          "2010-03-31",
          "2010-04-30",
          "2010-05-31",
          "2010-06-30",
          "2010-07-31",
          "2010-08-31",
          "2010-09-30",
          "2010-10-31",
          "2010-11-30",
          "2010-12-31",
          "2011-01-31",
          "2011-02-28",
          "2011-03-31",
          "2011-04-30",
          "2011-05-31",
          "2011-06-30",
          "2011-07-31",
          "2011-08-31",
          "2011-09-30",
          "2011-10-31",
          "2011-11-30",
          "2011-12-31",
          "2012-01-31",
          "2012-02-29",
          "2012-03-31",
          "2012-04-30",
          "2012-05-31",
          "2012-06-30",
          "2012-07-31",
          "2012-08-31",
          "2012-09-30",
          "2012-10-31",
          "2012-11-30",
          "2012-12-31",
          "2013-01-31",
          "2013-02-28",
          "2013-03-31",
          "2013-04-30",
          "2013-05-31",
          "2013-06-30",
          "2013-07-31",
          "2013-08-31",
          "2013-09-30",
          "2013-10-31",
          "2013-11-30",
          "2013-12-31",
          "2014-01-31",
          "2014-02-28",
          "2014-03-31",
          "2014-04-30",
          "2014-05-31",
          "2014-06-30",
          "2014-07-31",
          "2014-08-31",
          "2014-09-30",
          "2014-10-31",
          "2014-11-30",
          "2014-12-31",
          "2015-01-31",
          "2015-02-28",
          "2015-03-31",
          "2015-04-30",
          "2015-05-31",
          "2015-06-30",
          "2015-07-31",
          "2015-08-31",
          "2015-09-30",
          "2015-10-31",
          "2015-11-30",
          "2015-12-31",
          "2016-01-31",
          "2016-02-29",
          "2016-03-31",
          "2016-04-30",
          "2016-05-31",
          "2016-06-30",
          "2016-07-31",
          "2016-08-31",
          "2016-09-30",
          "2016-10-31",
          "2016-11-30",
          "2016-12-31",
          "2017-01-31",
          "2017-02-28",
          "2017-03-31",
          "2017-04-30",
          "2017-05-31",
          "2017-06-30",
          "2017-07-31",
          "2017-08-31",
          "2017-09-30",
          "2017-10-31",
          "2017-11-30",
          "2017-12-31",
          "2018-01-31",
          "2018-02-28",
          "2018-03-31",
          "2018-04-30",
          "2018-05-31",
          "2018-06-30",
          "2018-07-31",
          "2018-08-31",
          "2018-09-30",
          "2018-10-31",
          "2018-11-30",
          "2018-12-31",
          "2019-01-31",
          "2019-02-28",
          "2019-03-31",
          "2019-04-30",
          "2019-05-31",
          "2019-06-30",
          "2019-07-31",
          "2019-08-31",
          "2019-09-30",
          "2019-10-31",
          "2019-11-30",
          "2019-12-31",
          "2020-01-31",
          "2020-02-29",
          "2020-03-31",
          "2020-04-30",
          "2020-05-31",
          "2020-06-30",
          "2020-07-31",
          "2020-08-31",
          "2020-09-30",
          "2020-10-31",
          "2020-11-30",
          "2020-12-31",
          "2021-01-31",
          "2021-02-28",
          "2021-03-31",
          "2021-04-30",
          "2021-05-31",
          "2021-06-30",
          "2021-07-31",
          "2021-08-31",
          "2021-09-30",
          "2021-10-31",
          "2021-11-30",
          "2021-12-31",
          "2022-01-31",
          "2022-02-28",
          "2022-03-31",
          "2022-04-30",
          "2022-05-31",
          "2022-06-30",
          "2022-07-31",
          "2022-08-31",
          "2022-09-30"
         ],
         "xaxis": "x",
         "y": [
          98.40422503465814,
          100.93798662242051,
          107.68288522534036,
          109.7995615285553,
          107.23242817648126,
          106.43966113566464,
          113.91349320384909,
          112.29508785565194,
          122.12549889316125,
          124.87638245152488,
          124.37504919099058,
          131.02440630172168,
          125.53974799975698,
          128.16916055886097,
          130.8873968980463,
          134.06376216689685,
          133.87076190339369,
          132.59760255874266,
          132.19487983933925,
          133.93330703110996,
          130.5237798699564,
          139.62267767903492,
          142.58187781542216,
          140.81510171281383,
          147.43151378288488,
          151.98680235958813,
          152.40074939942423,
          156.02418771795553,
          152.8161411497546,
          155.48775962326914,
          159.96753392766976,
          161.2555092837166,
          163.55646116844596,
          166.76092531656502,
          169.35948468015056,
          179.51302600735073,
          178.97405279416094,
          175.715694663543,
          177.78002433183755,
          173.6270905121469,
          179.05309265268664,
          174.40587342069082,
          177.70371255865953,
          180.45868512898545,
          190.13847786882747,
          199.8342118600708,
          195.61245975954753,
          198.21223347276447,
          192.83928084761467,
          199.0110446369025,
          209.28517002996813,
          216.99871696931413,
          215.54672594503234,
          221.47400674506645,
          229.30151970138036,
          231.71558423761155,
          223.30433148163613,
          230.03817391436593,
          237.31763181271953,
          238.0489478471065,
          253.40103532914986,
          257.65372033222815,
          250.32521657304318,
          261.0487471728084,
          244.49076503231,
          240.52762911874868,
          239.19767530915811,
          235.3547408233148,
          222.77135367139928,
          234.26747289033133,
          222.1090879667571,
          213.67839960700294,
          220.78695617407473,
          238.25962030287462,
          265.5875885745103,
          281.4830979229849,
          265.08963832048636,
          272.6053430199218,
          290.46865219314884,
          277.2773336280136,
          279.3254063118272,
          277.71860735593725,
          274.1748170835136,
          284.22745240063205,
          296.41653958631605,
          293.1716168419007,
          293.7023992516104,
          296.36419976912174,
          289.35664391915265,
          278.34458913811073,
          293.49195242698454,
          302.7447105318491,
          293.3548318464133,
          306.265024468535,
          316.34007571598295,
          320.6050708597117,
          319.8398684632358,
          314.3939885564841,
          299.3651563947235,
          311.75016932500927,
          286.5744449293349,
          284.51792257776367,
          296.12916505146376,
          296.143910254921,
          290.4436965043894,
          286.9509171356384,
          285.7353782660105,
          295.5481203141585,
          303.41923749726544,
          308.1306150282999,
          298.5647435963675,
          309.02289813595524,
          300.56226016303185,
          312.06482538817767,
          298.2095280041462,
          288.517714586796,
          289.2751273268798,
          302.77492930198224,
          296.15403611536595,
          301.300222213508,
          288.1274106750146,
          256.3501391424798,
          198.61104648895602,
          232.17876375277234,
          226.37299938748362,
          251.28070815857097,
          253.4386819534693,
          248.00730686110998,
          251.20981465197428,
          242.3029989334201,
          277.8151656727379,
          304.3408079639736,
          323.87054861742905,
          344.77548375050344,
          366.4195141948255,
          381.31140527510394,
          402.786450399951,
          391.0039272495355,
          405.4842305132651,
          429.09830839640495,
          428.2369585651376,
          437.4693282884787,
          444.0045333993229,
          476.727609087252,
          484.55475348051664,
          493.4639696855345,
          514.924562516531,
          488.9124266125262,
          482.9373630725979,
          440.5963276777227,
          459.5446640353366,
          452.01765890108527,
          450.7681381232569
         ],
         "yaxis": "y"
        },
        {
         "hovertemplate": "series=portfolio_tr<br>month_end=%{x}<br>Total Return=%{y}<extra></extra>",
         "legendgroup": "portfolio_tr",
         "line": {
          "color": "#EF553B",
          "dash": "solid"
         },
         "marker": {
          "symbol": "circle"
         },
         "mode": "lines",
         "name": "portfolio_tr",
         "orientation": "v",
         "showlegend": true,
         "type": "scatter",
         "x": [
          "2010-01-31",
          "2010-02-28",
          "2010-03-31",
          "2010-04-30",
          "2010-05-31",
          "2010-06-30",
          "2010-07-31",
          "2010-08-31",
          "2010-09-30",
          "2010-10-31",
          "2010-11-30",
          "2010-12-31",
          "2011-01-31",
          "2011-02-28",
          "2011-03-31",
          "2011-04-30",
          "2011-05-31",
          "2011-06-30",
          "2011-07-31",
          "2011-08-31",
          "2011-09-30",
          "2011-10-31",
          "2011-11-30",
          "2011-12-31",
          "2012-01-31",
          "2012-02-29",
          "2012-03-31",
          "2012-04-30",
          "2012-05-31",
          "2012-06-30",
          "2012-07-31",
          "2012-08-31",
          "2012-09-30",
          "2012-10-31",
          "2012-11-30",
          "2012-12-31",
          "2013-01-31",
          "2013-02-28",
          "2013-03-31",
          "2013-04-30",
          "2013-05-31",
          "2013-06-30",
          "2013-07-31",
          "2013-08-31",
          "2013-09-30",
          "2013-10-31",
          "2013-11-30",
          "2013-12-31",
          "2014-01-31",
          "2014-02-28",
          "2014-03-31",
          "2014-04-30",
          "2014-05-31",
          "2014-06-30",
          "2014-07-31",
          "2014-08-31",
          "2014-09-30",
          "2014-10-31",
          "2014-11-30",
          "2014-12-31",
          "2015-01-31",
          "2015-02-28",
          "2015-03-31",
          "2015-04-30",
          "2015-05-31",
          "2015-06-30",
          "2015-07-31",
          "2015-08-31",
          "2015-09-30",
          "2015-10-31",
          "2015-11-30",
          "2015-12-31",
          "2016-01-31",
          "2016-02-29",
          "2016-03-31",
          "2016-04-30",
          "2016-05-31",
          "2016-06-30",
          "2016-07-31",
          "2016-08-31",
          "2016-09-30",
          "2016-10-31",
          "2016-11-30",
          "2016-12-31",
          "2017-01-31",
          "2017-02-28",
          "2017-03-31",
          "2017-04-30",
          "2017-05-31",
          "2017-06-30",
          "2017-07-31",
          "2017-08-31",
          "2017-09-30",
          "2017-10-31",
          "2017-11-30",
          "2017-12-31",
          "2018-01-31",
          "2018-02-28",
          "2018-03-31",
          "2018-04-30",
          "2018-05-31",
          "2018-06-30",
          "2018-07-31",
          "2018-08-31",
          "2018-09-30",
          "2018-10-31",
          "2018-11-30",
          "2018-12-31",
          "2019-01-31",
          "2019-02-28",
          "2019-03-31",
          "2019-04-30",
          "2019-05-31",
          "2019-06-30",
          "2019-07-31",
          "2019-08-31",
          "2019-09-30",
          "2019-10-31",
          "2019-11-30",
          "2019-12-31",
          "2020-01-31",
          "2020-02-29",
          "2020-03-31",
          "2020-04-30",
          "2020-05-31",
          "2020-06-30",
          "2020-07-31",
          "2020-08-31",
          "2020-09-30",
          "2020-10-31",
          "2020-11-30",
          "2020-12-31",
          "2021-01-31",
          "2021-02-28",
          "2021-03-31",
          "2021-04-30",
          "2021-05-31",
          "2021-06-30",
          "2021-07-31",
          "2021-08-31",
          "2021-09-30",
          "2021-10-31",
          "2021-11-30",
          "2021-12-31",
          "2022-01-31",
          "2022-02-28",
          "2022-03-31",
          "2022-04-30",
          "2022-05-31",
          "2022-06-30",
          "2022-07-31",
          "2022-08-31",
          "2022-09-30"
         ],
         "xaxis": "x",
         "y": [
          98.40422503465814,
          100.93798662242051,
          107.68288522534036,
          109.7995615285553,
          107.23242817648126,
          106.43966113566464,
          113.91349320384909,
          112.29508785565194,
          122.12549889316125,
          124.87638245152488,
          124.37504919099058,
          131.02440630172168,
          125.53974799975698,
          128.16916055886097,
          130.8873968980463,
          134.06376216689685,
          133.87076190339369,
          132.59760255874266,
          132.19487983933925,
          133.93330703110996,
          130.5237798699564,
          139.62267767903492,
          142.58187781542216,
          140.81510171281383,
          147.43151378288488,
          151.98680235958813,
          152.40074939942423,
          156.02418771795553,
          152.8161411497546,
          155.48775962326914,
          159.96753392766976,
          161.2555092837166,
          163.55646116844596,
          166.76092531656502,
          169.35948468015056,
          179.51302600735073,
          178.97405279416094,
          175.715694663543,
          177.78002433183755,
          173.6270905121469,
          179.05309265268664,
          174.40587342069082,
          177.70371255865953,
          180.45868512898545,
          190.13847786882747,
          199.8342118600708,
          195.61245975954753,
          198.21223347276447,
          192.83928084761467,
          199.0110446369025,
          209.28517002996813,
          216.99871696931413,
          215.54672594503234,
          221.47400674506645,
          229.30151970138036,
          231.71558423761155,
          223.30433148163613,
          230.03817391436593,
          237.31763181271953,
          238.0489478471065,
          253.40103532914986,
          257.65372033222815,
          250.32521657304318,
          261.0487471728084,
          244.49076503231,
          240.52762911874868,
          239.19767530915811,
          235.3547408233148,
          222.77135367139928,
          234.26747289033133,
          222.1090879667571,
          213.67839960700294,
          220.78695617407473,
          238.25962030287462,
          265.5875885745103,
          281.4830979229849,
          265.08963832048636,
          272.6053430199218,
          290.46865219314884,
          277.2773336280136,
          279.3254063118272,
          277.71860735593725,
          274.1748170835136,
          284.22745240063205,
          296.41653958631605,
          293.1716168419007,
          293.7023992516104,
          296.36419976912174,
          289.35664391915265,
          278.34458913811073,
          293.49195242698454,
          302.7447105318491,
          291.81297808172434,
          309.10626996662864,
          317.93151464087606,
          316.6340106209101,
          315.6415940400645,
          306.9990052206068,
          288.99117695611534,
          297.8908567145109,
          271.40585926689664,
          270.4620400595724,
          285.3018763187234,
          283.9997975387666,
          282.3058534912338,
          282.8168081839594,
          278.16168529764997,
          291.8389991142531,
          300.6581473947394,
          311.92051019766234,
          301.82806882343345,
          306.22837025547545,
          300.3526848452781,
          316.38453460148776,
          304.12513571919254,
          300.04769585835874,
          296.0351715215138,
          310.85006622435736,
          302.69789270338794,
          310.1422986996012,
          297.82505214543795,
          269.1808516515679,
          210.10671693995008,
          253.26534288438398,
          247.6935163444137,
          281.9952379928254,
          289.24786169036423,
          281.9380660561305,
          278.33650157223,
          266.88642285113906,
          308.0500163369409,
          344.0453446329626,
          378.91887117526875,
          412.92074334641126,
          445.0244159795605,
          470.3391193740556,
          492.58036311326003,
          474.47257453624434,
          498.92778402772774,
          532.832242306276,
          536.4466618709841,
          549.1603759815245,
          562.5357729617074,
          622.2389260616599,
          634.3166868960342,
          638.2339235013269,
          658.1326681390495,
          616.1023879730394,
          607.1833690205967,
          552.4377707205268,
          577.9142474664799,
          559.3520550083838,
          546.2490099454914
         ],
         "yaxis": "y"
        }
       ],
       "layout": {
        "legend": {
         "title": {
          "text": "series"
         },
         "tracegroupgap": 0
        },
        "margin": {
         "t": 60
        },
        "template": {
         "data": {
          "bar": [
           {
            "error_x": {
             "color": "#2a3f5f"
            },
            "error_y": {
             "color": "#2a3f5f"
            },
            "marker": {
             "line": {
              "color": "#E5ECF6",
              "width": 0.5
             },
             "pattern": {
              "fillmode": "overlay",
              "size": 10,
              "solidity": 0.2
             }
            },
            "type": "bar"
           }
          ],
          "barpolar": [
           {
            "marker": {
             "line": {
              "color": "#E5ECF6",
              "width": 0.5
             },
             "pattern": {
              "fillmode": "overlay",
              "size": 10,
              "solidity": 0.2
             }
            },
            "type": "barpolar"
           }
          ],
          "carpet": [
           {
            "aaxis": {
             "endlinecolor": "#2a3f5f",
             "gridcolor": "white",
             "linecolor": "white",
             "minorgridcolor": "white",
             "startlinecolor": "#2a3f5f"
            },
            "baxis": {
             "endlinecolor": "#2a3f5f",
             "gridcolor": "white",
             "linecolor": "white",
             "minorgridcolor": "white",
             "startlinecolor": "#2a3f5f"
            },
            "type": "carpet"
           }
          ],
          "choropleth": [
           {
            "colorbar": {
             "outlinewidth": 0,
             "ticks": ""
            },
            "type": "choropleth"
           }
          ],
          "contour": [
           {
            "colorbar": {
             "outlinewidth": 0,
             "ticks": ""
            },
            "colorscale": [
             [
              0,
              "#0d0887"
             ],
             [
              0.1111111111111111,
              "#46039f"
             ],
             [
              0.2222222222222222,
              "#7201a8"
             ],
             [
              0.3333333333333333,
              "#9c179e"
             ],
             [
              0.4444444444444444,
              "#bd3786"
             ],
             [
              0.5555555555555556,
              "#d8576b"
             ],
             [
              0.6666666666666666,
              "#ed7953"
             ],
             [
              0.7777777777777778,
              "#fb9f3a"
             ],
             [
              0.8888888888888888,
              "#fdca26"
             ],
             [
              1,
              "#f0f921"
             ]
            ],
            "type": "contour"
           }
          ],
          "contourcarpet": [
           {
            "colorbar": {
             "outlinewidth": 0,
             "ticks": ""
            },
            "type": "contourcarpet"
           }
          ],
          "heatmap": [
           {
            "colorbar": {
             "outlinewidth": 0,
             "ticks": ""
            },
            "colorscale": [
             [
              0,
              "#0d0887"
             ],
             [
              0.1111111111111111,
              "#46039f"
             ],
             [
              0.2222222222222222,
              "#7201a8"
             ],
             [
              0.3333333333333333,
              "#9c179e"
             ],
             [
              0.4444444444444444,
              "#bd3786"
             ],
             [
              0.5555555555555556,
              "#d8576b"
             ],
             [
              0.6666666666666666,
              "#ed7953"
             ],
             [
              0.7777777777777778,
              "#fb9f3a"
             ],
             [
              0.8888888888888888,
              "#fdca26"
             ],
             [
              1,
              "#f0f921"
             ]
            ],
            "type": "heatmap"
           }
          ],
          "heatmapgl": [
           {
            "colorbar": {
             "outlinewidth": 0,
             "ticks": ""
            },
            "colorscale": [
             [
              0,
              "#0d0887"
             ],
             [
              0.1111111111111111,
              "#46039f"
             ],
             [
              0.2222222222222222,
              "#7201a8"
             ],
             [
              0.3333333333333333,
              "#9c179e"
             ],
             [
              0.4444444444444444,
              "#bd3786"
             ],
             [
              0.5555555555555556,
              "#d8576b"
             ],
             [
              0.6666666666666666,
              "#ed7953"
             ],
             [
              0.7777777777777778,
              "#fb9f3a"
             ],
             [
              0.8888888888888888,
              "#fdca26"
             ],
             [
              1,
              "#f0f921"
             ]
            ],
            "type": "heatmapgl"
           }
          ],
          "histogram": [
           {
            "marker": {
             "pattern": {
              "fillmode": "overlay",
              "size": 10,
              "solidity": 0.2
             }
            },
            "type": "histogram"
           }
          ],
          "histogram2d": [
           {
            "colorbar": {
             "outlinewidth": 0,
             "ticks": ""
            },
            "colorscale": [
             [
              0,
              "#0d0887"
             ],
             [
              0.1111111111111111,
              "#46039f"
             ],
             [
              0.2222222222222222,
              "#7201a8"
             ],
             [
              0.3333333333333333,
              "#9c179e"
             ],
             [
              0.4444444444444444,
              "#bd3786"
             ],
             [
              0.5555555555555556,
              "#d8576b"
             ],
             [
              0.6666666666666666,
              "#ed7953"
             ],
             [
              0.7777777777777778,
              "#fb9f3a"
             ],
             [
              0.8888888888888888,
              "#fdca26"
             ],
             [
              1,
              "#f0f921"
             ]
            ],
            "type": "histogram2d"
           }
          ],
          "histogram2dcontour": [
           {
            "colorbar": {
             "outlinewidth": 0,
             "ticks": ""
            },
            "colorscale": [
             [
              0,
              "#0d0887"
             ],
             [
              0.1111111111111111,
              "#46039f"
             ],
             [
              0.2222222222222222,
              "#7201a8"
             ],
             [
              0.3333333333333333,
              "#9c179e"
             ],
             [
              0.4444444444444444,
              "#bd3786"
             ],
             [
              0.5555555555555556,
              "#d8576b"
             ],
             [
              0.6666666666666666,
              "#ed7953"
             ],
             [
              0.7777777777777778,
              "#fb9f3a"
             ],
             [
              0.8888888888888888,
              "#fdca26"
             ],
             [
              1,
              "#f0f921"
             ]
            ],
            "type": "histogram2dcontour"
           }
          ],
          "mesh3d": [
           {
            "colorbar": {
             "outlinewidth": 0,
             "ticks": ""
            },
            "type": "mesh3d"
           }
          ],
          "parcoords": [
           {
            "line": {
             "colorbar": {
              "outlinewidth": 0,
              "ticks": ""
             }
            },
            "type": "parcoords"
           }
          ],
          "pie": [
           {
            "automargin": true,
            "type": "pie"
           }
          ],
          "scatter": [
           {
            "fillpattern": {
             "fillmode": "overlay",
             "size": 10,
             "solidity": 0.2
            },
            "type": "scatter"
           }
          ],
          "scatter3d": [
           {
            "line": {
             "colorbar": {
              "outlinewidth": 0,
              "ticks": ""
             }
            },
            "marker": {
             "colorbar": {
              "outlinewidth": 0,
              "ticks": ""
             }
            },
            "type": "scatter3d"
           }
          ],
          "scattercarpet": [
           {
            "marker": {
             "colorbar": {
              "outlinewidth": 0,
              "ticks": ""
             }
            },
            "type": "scattercarpet"
           }
          ],
          "scattergeo": [
           {
            "marker": {
             "colorbar": {
              "outlinewidth": 0,
              "ticks": ""
             }
            },
            "type": "scattergeo"
           }
          ],
          "scattergl": [
           {
            "marker": {
             "colorbar": {
              "outlinewidth": 0,
              "ticks": ""
             }
            },
            "type": "scattergl"
           }
          ],
          "scattermapbox": [
           {
            "marker": {
             "colorbar": {
              "outlinewidth": 0,
              "ticks": ""
             }
            },
            "type": "scattermapbox"
           }
          ],
          "scatterpolar": [
           {
            "marker": {
             "colorbar": {
              "outlinewidth": 0,
              "ticks": ""
             }
            },
            "type": "scatterpolar"
           }
          ],
          "scatterpolargl": [
           {
            "marker": {
             "colorbar": {
              "outlinewidth": 0,
              "ticks": ""
             }
            },
            "type": "scatterpolargl"
           }
          ],
          "scatterternary": [
           {
            "marker": {
             "colorbar": {
              "outlinewidth": 0,
              "ticks": ""
             }
            },
            "type": "scatterternary"
           }
          ],
          "surface": [
           {
            "colorbar": {
             "outlinewidth": 0,
             "ticks": ""
            },
            "colorscale": [
             [
              0,
              "#0d0887"
             ],
             [
              0.1111111111111111,
              "#46039f"
             ],
             [
              0.2222222222222222,
              "#7201a8"
             ],
             [
              0.3333333333333333,
              "#9c179e"
             ],
             [
              0.4444444444444444,
              "#bd3786"
             ],
             [
              0.5555555555555556,
              "#d8576b"
             ],
             [
              0.6666666666666666,
              "#ed7953"
             ],
             [
              0.7777777777777778,
              "#fb9f3a"
             ],
             [
              0.8888888888888888,
              "#fdca26"
             ],
             [
              1,
              "#f0f921"
             ]
            ],
            "type": "surface"
           }
          ],
          "table": [
           {
            "cells": {
             "fill": {
              "color": "#EBF0F8"
             },
             "line": {
              "color": "white"
             }
            },
            "header": {
             "fill": {
              "color": "#C8D4E3"
             },
             "line": {
              "color": "white"
             }
            },
            "type": "table"
           }
          ]
         },
         "layout": {
          "annotationdefaults": {
           "arrowcolor": "#2a3f5f",
           "arrowhead": 0,
           "arrowwidth": 1
          },
          "autotypenumbers": "strict",
          "coloraxis": {
           "colorbar": {
            "outlinewidth": 0,
            "ticks": ""
           }
          },
          "colorscale": {
           "diverging": [
            [
             0,
             "#8e0152"
            ],
            [
             0.1,
             "#c51b7d"
            ],
            [
             0.2,
             "#de77ae"
            ],
            [
             0.3,
             "#f1b6da"
            ],
            [
             0.4,
             "#fde0ef"
            ],
            [
             0.5,
             "#f7f7f7"
            ],
            [
             0.6,
             "#e6f5d0"
            ],
            [
             0.7,
             "#b8e186"
            ],
            [
             0.8,
             "#7fbc41"
            ],
            [
             0.9,
             "#4d9221"
            ],
            [
             1,
             "#276419"
            ]
           ],
           "sequential": [
            [
             0,
             "#0d0887"
            ],
            [
             0.1111111111111111,
             "#46039f"
            ],
            [
             0.2222222222222222,
             "#7201a8"
            ],
            [
             0.3333333333333333,
             "#9c179e"
            ],
            [
             0.4444444444444444,
             "#bd3786"
            ],
            [
             0.5555555555555556,
             "#d8576b"
            ],
            [
             0.6666666666666666,
             "#ed7953"
            ],
            [
             0.7777777777777778,
             "#fb9f3a"
            ],
            [
             0.8888888888888888,
             "#fdca26"
            ],
            [
             1,
             "#f0f921"
            ]
           ],
           "sequentialminus": [
            [
             0,
             "#0d0887"
            ],
            [
             0.1111111111111111,
             "#46039f"
            ],
            [
             0.2222222222222222,
             "#7201a8"
            ],
            [
             0.3333333333333333,
             "#9c179e"
            ],
            [
             0.4444444444444444,
             "#bd3786"
            ],
            [
             0.5555555555555556,
             "#d8576b"
            ],
            [
             0.6666666666666666,
             "#ed7953"
            ],
            [
             0.7777777777777778,
             "#fb9f3a"
            ],
            [
             0.8888888888888888,
             "#fdca26"
            ],
            [
             1,
             "#f0f921"
            ]
           ]
          },
          "colorway": [
           "#636efa",
           "#EF553B",
           "#00cc96",
           "#ab63fa",
           "#FFA15A",
           "#19d3f3",
           "#FF6692",
           "#B6E880",
           "#FF97FF",
           "#FECB52"
          ],
          "font": {
           "color": "#2a3f5f"
          },
          "geo": {
           "bgcolor": "white",
           "lakecolor": "white",
           "landcolor": "#E5ECF6",
           "showlakes": true,
           "showland": true,
           "subunitcolor": "white"
          },
          "hoverlabel": {
           "align": "left"
          },
          "hovermode": "closest",
          "mapbox": {
           "style": "light"
          },
          "paper_bgcolor": "white",
          "plot_bgcolor": "#E5ECF6",
          "polar": {
           "angularaxis": {
            "gridcolor": "white",
            "linecolor": "white",
            "ticks": ""
           },
           "bgcolor": "#E5ECF6",
           "radialaxis": {
            "gridcolor": "white",
            "linecolor": "white",
            "ticks": ""
           }
          },
          "scene": {
           "xaxis": {
            "backgroundcolor": "#E5ECF6",
            "gridcolor": "white",
            "gridwidth": 2,
            "linecolor": "white",
            "showbackground": true,
            "ticks": "",
            "zerolinecolor": "white"
           },
           "yaxis": {
            "backgroundcolor": "#E5ECF6",
            "gridcolor": "white",
            "gridwidth": 2,
            "linecolor": "white",
            "showbackground": true,
            "ticks": "",
            "zerolinecolor": "white"
           },
           "zaxis": {
            "backgroundcolor": "#E5ECF6",
            "gridcolor": "white",
            "gridwidth": 2,
            "linecolor": "white",
            "showbackground": true,
            "ticks": "",
            "zerolinecolor": "white"
           }
          },
          "shapedefaults": {
           "line": {
            "color": "#2a3f5f"
           }
          },
          "ternary": {
           "aaxis": {
            "gridcolor": "white",
            "linecolor": "white",
            "ticks": ""
           },
           "baxis": {
            "gridcolor": "white",
            "linecolor": "white",
            "ticks": ""
           },
           "bgcolor": "#E5ECF6",
           "caxis": {
            "gridcolor": "white",
            "linecolor": "white",
            "ticks": ""
           }
          },
          "title": {
           "x": 0.05
          },
          "xaxis": {
           "automargin": true,
           "gridcolor": "white",
           "linecolor": "white",
           "ticks": "",
           "title": {
            "standoff": 15
           },
           "zerolinecolor": "white",
           "zerolinewidth": 2
          },
          "yaxis": {
           "automargin": true,
           "gridcolor": "white",
           "linecolor": "white",
           "ticks": "",
           "title": {
            "standoff": 15
           },
           "zerolinecolor": "white",
           "zerolinewidth": 2
          }
         }
        },
        "xaxis": {
         "anchor": "y",
         "domain": [
          0,
          1
         ],
         "title": {
          "text": "month_end"
         }
        },
        "yaxis": {
         "anchor": "x",
         "domain": [
          0,
          1
         ],
         "title": {
          "text": "Total Return"
         }
        }
       }
      }
     },
     "metadata": {},
     "output_type": "display_data"
    }
   ],
   "source": [
    "# running solution\n",
    "df_returns = pd.concat(objs=[df_returns_train, df_returns_test], ignore_index=True)\n",
    "df_weights_index = equalise_weights(df_returns)\n",
    "df_returns, df_weights_portfolio = generate_portfolio(df_returns_train, df_returns_test)\n",
    "fig1, df_rtn = plot_total_return(\n",
    "    df_returns,\n",
    "    df_weights_index=df_weights_index,\n",
    "    df_weights_portfolio=df_weights_portfolio,\n",
    ")\n",
    "fig1"
   ]
  }
 ],
 "metadata": {
  "kernelspec": {
   "display_name": "Python 3",
   "language": "python",
   "name": "python3"
  },
  "language_info": {
   "codemirror_mode": {
    "name": "ipython",
    "version": 3
   },
   "file_extension": ".py",
   "mimetype": "text/x-python",
   "name": "python",
   "nbconvert_exporter": "python",
   "pygments_lexer": "ipython3",
   "version": "3.10.11"
  },
  "orig_nbformat": 4
 },
 "nbformat": 4,
 "nbformat_minor": 2
}
