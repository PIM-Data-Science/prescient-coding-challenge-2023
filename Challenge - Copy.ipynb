{
 "cells": [
  {
   "cell_type": "code",
   "execution_count": 13,
   "metadata": {},
   "outputs": [
    {
     "name": "stdout",
     "output_type": "stream",
     "text": [
      "---Python script Start--- 2023-08-05 13:45:05.658109\n"
     ]
    }
   ],
   "source": [
    "import numpy as np\n",
    "import pandas as pd\n",
    "import datetime\n",
    "import plotly.express as px\n",
    "from keras.models import Sequential\n",
    "from keras.layers import LSTM, Dense, Dropout\n",
    "from sklearn.preprocessing import MinMaxScaler\n",
    "from sklearn.model_selection import train_test_split\n",
    "import matplotlib.pyplot as plt\n",
    "\n",
    "print(\"---Python script Start---\", str(datetime.datetime.now()))"
   ]
  },
  {
   "cell_type": "code",
   "execution_count": 14,
   "metadata": {},
   "outputs": [],
   "source": [
    "df = pd.read_csv(\n",
    "    \"C:\\\\Users\\\\terre\\OneDrive - University of Cape Town\\\\Terrence\\\\Code\\\\prescient-coding-challenge-2023\\\\data\\\\returns_train.csv\"\n",
    ")"
   ]
  },
  {
   "cell_type": "code",
   "execution_count": 15,
   "metadata": {},
   "outputs": [],
   "source": [
    "# data reads\n",
    "df_returns_train = pd.read_csv(\"data/returns_train.csv\")\n",
    "df_returns_test = pd.read_csv(\"data/returns_test.csv\")\n",
    "df_returns_train[\"month_end\"] = pd.to_datetime(arg=df_returns_train[\"month_end\"]).apply(\n",
    "    lambda d: d.date()\n",
    ")\n",
    "df_returns_test[\"month_end\"] = pd.to_datetime(arg=df_returns_test[\"month_end\"]).apply(\n",
    "    lambda d: d.date()\n",
    ")"
   ]
  },
  {
   "cell_type": "code",
   "execution_count": 16,
   "metadata": {},
   "outputs": [
    {
     "name": "stdout",
     "output_type": "stream",
     "text": [
      "['Stock1', 'Stock10', 'Stock11', 'Stock14', 'Stock16', 'Stock18', 'Stock19', 'Stock20', 'Stock21', 'Stock22', 'Stock26', 'Stock3', 'Stock30', 'Stock31', 'Stock33', 'Stock34', 'Stock35', 'Stock38', 'Stock39', 'Stock4', 'Stock40', 'Stock41', 'Stock43', 'Stock44', 'Stock46', 'Stock47', 'Stock49', 'Stock5', 'Stock50', 'Stock54', 'Stock56', 'Stock59', 'Stock6', 'Stock61', 'Stock63', 'Stock64', 'Stock66', 'Stock69', 'Stock7', 'Stock70', 'Stock73', 'Stock75', 'Stock76', 'Stock77', 'Stock78', 'Stock79', 'Stock80', 'Stock81', 'Stock84', 'Stock85', 'Stock86', 'Stock87', 'Stock88', 'Stock9']\n"
     ]
    }
   ],
   "source": [
    "# Ignoring the month_end from training set\n",
    "\n",
    "# Get column names as a list but ignore the first column\n",
    "header_list = df.columns[1:].tolist()\n",
    "print(header_list)\n",
    "\n",
    "\n",
    "def process_dataframe(dataframe):\n",
    "    # Create a new dataframe without the 'month_end' column\n",
    "    new_dataframe = dataframe.drop([\"month_end\"], axis=1)\n",
    "    return new_dataframe\n",
    "\n",
    "\n",
    "clean_df = process_dataframe(df_returns_train)"
   ]
  },
  {
   "cell_type": "code",
   "execution_count": 17,
   "metadata": {},
   "outputs": [],
   "source": [
    "def equalise_weights(df: pd.DataFrame):\n",
    "    \"\"\"\n",
    "    Function to generate the equal weights, i.e. 1/p for each active stock within a month\n",
    "\n",
    "    Args:\n",
    "        df: A return data frame. First column is month end and remaining columns are stocks\n",
    "\n",
    "    Returns:\n",
    "        A dataframe of the same dimension but with values 1/p on active funds within a month\n",
    "\n",
    "    \"\"\"\n",
    "\n",
    "    # create df to house weights\n",
    "    n_length = len(df)\n",
    "    df_returns = df\n",
    "    df_weights = df_returns[:n_length].copy()\n",
    "    df_weights.set_index(\"month_end\", inplace=True)\n",
    "\n",
    "    # list of stock names\n",
    "    list_stocks = list(df_returns.columns)\n",
    "    list_stocks.remove(\"month_end\")\n",
    "\n",
    "    # assign 1/p\n",
    "    df_weights[list_stocks] = 1 / len(list_stocks)\n",
    "\n",
    "    return df_weights"
   ]
  },
  {
   "cell_type": "code",
   "execution_count": 18,
   "metadata": {},
   "outputs": [
    {
     "name": "stdout",
     "output_type": "stream",
     "text": [
      "Epoch 1/50\n",
      "2/2 [==============================] - 9s 2s/step - loss: 0.2450 - val_loss: 0.2347\n",
      "Epoch 2/50\n",
      "2/2 [==============================] - 0s 105ms/step - loss: 0.2135 - val_loss: 0.1985\n",
      "Epoch 3/50\n",
      "2/2 [==============================] - 0s 96ms/step - loss: 0.1829 - val_loss: 0.1570\n",
      "Epoch 4/50\n",
      "2/2 [==============================] - 0s 120ms/step - loss: 0.1517 - val_loss: 0.1229\n",
      "Epoch 5/50\n",
      "2/2 [==============================] - 0s 112ms/step - loss: 0.1333 - val_loss: 0.1003\n",
      "Epoch 6/50\n",
      "2/2 [==============================] - 0s 117ms/step - loss: 0.1227 - val_loss: 0.0869\n",
      "Epoch 7/50\n",
      "2/2 [==============================] - 0s 127ms/step - loss: 0.1106 - val_loss: 0.0791\n",
      "Epoch 8/50\n",
      "2/2 [==============================] - 0s 100ms/step - loss: 0.0945 - val_loss: 0.0737\n",
      "Epoch 9/50\n",
      "2/2 [==============================] - 0s 101ms/step - loss: 0.0902 - val_loss: 0.0688\n",
      "Epoch 10/50\n",
      "2/2 [==============================] - 0s 108ms/step - loss: 0.0913 - val_loss: 0.0627\n",
      "Epoch 11/50\n",
      "2/2 [==============================] - 0s 96ms/step - loss: 0.0879 - val_loss: 0.0580\n",
      "Epoch 12/50\n",
      "2/2 [==============================] - 0s 109ms/step - loss: 0.0801 - val_loss: 0.0553\n",
      "Epoch 13/50\n",
      "2/2 [==============================] - 0s 116ms/step - loss: 0.0763 - val_loss: 0.0533\n",
      "Epoch 14/50\n",
      "2/2 [==============================] - 0s 116ms/step - loss: 0.0735 - val_loss: 0.0517\n",
      "Epoch 15/50\n",
      "2/2 [==============================] - 0s 104ms/step - loss: 0.0768 - val_loss: 0.0507\n",
      "Epoch 16/50\n",
      "2/2 [==============================] - 0s 108ms/step - loss: 0.0767 - val_loss: 0.0503\n",
      "Epoch 17/50\n",
      "2/2 [==============================] - 0s 104ms/step - loss: 0.0686 - val_loss: 0.0504\n",
      "Epoch 18/50\n",
      "2/2 [==============================] - 0s 97ms/step - loss: 0.0700 - val_loss: 0.0505\n",
      "Epoch 19/50\n",
      "2/2 [==============================] - 0s 101ms/step - loss: 0.0653 - val_loss: 0.0503\n",
      "Epoch 20/50\n",
      "2/2 [==============================] - 0s 91ms/step - loss: 0.0664 - val_loss: 0.0502\n",
      "Epoch 21/50\n",
      "2/2 [==============================] - 0s 104ms/step - loss: 0.0647 - val_loss: 0.0498\n",
      "Epoch 22/50\n",
      "2/2 [==============================] - 0s 92ms/step - loss: 0.0640 - val_loss: 0.0490\n",
      "Epoch 23/50\n",
      "2/2 [==============================] - 0s 103ms/step - loss: 0.0667 - val_loss: 0.0478\n",
      "Epoch 24/50\n",
      "2/2 [==============================] - 0s 101ms/step - loss: 0.0621 - val_loss: 0.0468\n",
      "Epoch 25/50\n",
      "2/2 [==============================] - 0s 109ms/step - loss: 0.0646 - val_loss: 0.0470\n",
      "Epoch 26/50\n",
      "2/2 [==============================] - 0s 108ms/step - loss: 0.0616 - val_loss: 0.0481\n",
      "Epoch 27/50\n",
      "2/2 [==============================] - 0s 104ms/step - loss: 0.0628 - val_loss: 0.0501\n",
      "Epoch 28/50\n",
      "2/2 [==============================] - 0s 105ms/step - loss: 0.0622 - val_loss: 0.0505\n",
      "Epoch 29/50\n",
      "2/2 [==============================] - 0s 99ms/step - loss: 0.0704 - val_loss: 0.0480\n",
      "Epoch 30/50\n",
      "2/2 [==============================] - 0s 95ms/step - loss: 0.0595 - val_loss: 0.0460\n",
      "Epoch 31/50\n",
      "2/2 [==============================] - 0s 109ms/step - loss: 0.0567 - val_loss: 0.0453\n",
      "Epoch 32/50\n",
      "2/2 [==============================] - 0s 109ms/step - loss: 0.0621 - val_loss: 0.0453\n",
      "Epoch 33/50\n",
      "2/2 [==============================] - 0s 102ms/step - loss: 0.0590 - val_loss: 0.0460\n",
      "Epoch 34/50\n",
      "2/2 [==============================] - 0s 104ms/step - loss: 0.0606 - val_loss: 0.0487\n",
      "Epoch 35/50\n",
      "2/2 [==============================] - 0s 100ms/step - loss: 0.0588 - val_loss: 0.0516\n",
      "Epoch 36/50\n",
      "2/2 [==============================] - 0s 104ms/step - loss: 0.0599 - val_loss: 0.0497\n",
      "Epoch 37/50\n",
      "2/2 [==============================] - 0s 104ms/step - loss: 0.0608 - val_loss: 0.0468\n",
      "Epoch 38/50\n",
      "2/2 [==============================] - 0s 104ms/step - loss: 0.0551 - val_loss: 0.0456\n",
      "Epoch 39/50\n",
      "2/2 [==============================] - 0s 97ms/step - loss: 0.0578 - val_loss: 0.0452\n",
      "Epoch 40/50\n",
      "2/2 [==============================] - 0s 105ms/step - loss: 0.0603 - val_loss: 0.0452\n",
      "Epoch 41/50\n",
      "2/2 [==============================] - 0s 104ms/step - loss: 0.0609 - val_loss: 0.0454\n",
      "Epoch 42/50\n",
      "2/2 [==============================] - 0s 103ms/step - loss: 0.0598 - val_loss: 0.0461\n",
      "Epoch 43/50\n",
      "2/2 [==============================] - 0s 106ms/step - loss: 0.0589 - val_loss: 0.0474\n",
      "Epoch 44/50\n",
      "2/2 [==============================] - 0s 112ms/step - loss: 0.0555 - val_loss: 0.0498\n",
      "Epoch 45/50\n",
      "2/2 [==============================] - 0s 92ms/step - loss: 0.0559 - val_loss: 0.0509\n",
      "Epoch 46/50\n",
      "2/2 [==============================] - 0s 100ms/step - loss: 0.0587 - val_loss: 0.0500\n",
      "Epoch 47/50\n",
      "2/2 [==============================] - 0s 98ms/step - loss: 0.0595 - val_loss: 0.0484\n",
      "Epoch 48/50\n",
      "2/2 [==============================] - 0s 108ms/step - loss: 0.0571 - val_loss: 0.0487\n",
      "Epoch 49/50\n",
      "2/2 [==============================] - 0s 97ms/step - loss: 0.0571 - val_loss: 0.0488\n",
      "Epoch 50/50\n",
      "2/2 [==============================] - 0s 103ms/step - loss: 0.0598 - val_loss: 0.0485\n"
     ]
    },
    {
     "data": {
      "text/plain": [
       "<keras.callbacks.History at 0x1d693db1ab0>"
      ]
     },
     "execution_count": 18,
     "metadata": {},
     "output_type": "execute_result"
    }
   ],
   "source": [
    "# Normalization\n",
    "scaler = MinMaxScaler(feature_range=(0, 1))\n",
    "scaled_data = scaler.fit_transform(clean_df.values)\n",
    "\n",
    "# Create a data structure with 60 time-steps and 1 output for each stock\n",
    "lookback = 60\n",
    "\n",
    "X, y = [], []\n",
    "for i in range(lookback, len(scaled_data)):\n",
    "    X.append(scaled_data[i - lookback : i])\n",
    "    y.append(scaled_data[i])\n",
    "X, y = np.array(X), np.array(y)\n",
    "\n",
    "# Split the data into training and validation sets\n",
    "X_train, X_val, y_train, y_val = train_test_split(X, y, test_size=0.2, random_state=42)\n",
    "\n",
    "# Initialize the LSTM model\n",
    "model = Sequential()\n",
    "\n",
    "model.add(\n",
    "    LSTM(\n",
    "        units=50,\n",
    "        return_sequences=True,\n",
    "        input_shape=(X_train.shape[1], X_train.shape[2]),\n",
    "    )\n",
    ")\n",
    "model.add(Dropout(0.2))\n",
    "\n",
    "model.add(LSTM(units=50, return_sequences=True))\n",
    "model.add(Dropout(0.2))\n",
    "\n",
    "model.add(LSTM(units=50, return_sequences=True))\n",
    "model.add(Dropout(0.2))\n",
    "\n",
    "model.add(LSTM(units=50))\n",
    "model.add(Dropout(0.2))\n",
    "\n",
    "model.add(\n",
    "    Dense(units=clean_df.shape[1])\n",
    ")  # number of units in the output layer should be equal to the number of stocks\n",
    "\n",
    "# Compile and train the model\n",
    "model.compile(optimizer=\"adam\", loss=\"mean_squared_error\")\n",
    "model.fit(X_train, y_train, epochs=50, batch_size=20, validation_data=(X_val, y_val))"
   ]
  },
  {
   "cell_type": "code",
   "execution_count": 19,
   "metadata": {},
   "outputs": [],
   "source": [
    "def generate_portfolio(df_train: pd.DataFrame, df_test: pd.DataFrame):\n",
    "    \"\"\"\n",
    "    Function to generate stocks weight allocation for time t+1 using historic data. Initial weights generated as 1/p for active stock within a month\n",
    "\n",
    "    Args:\n",
    "        df_train: The training set of returns. First column is month end and remaining columns are stocks\n",
    "        df_test: The testing set of returns. First column is month end and remaining columns are stocks\n",
    "\n",
    "    Returns:\n",
    "        The returns dataframe and the weights\n",
    "    \"\"\"\n",
    "\n",
    "    print(\n",
    "        \"---> training set spans\",\n",
    "        df_train[\"month_end\"].min(),\n",
    "        df_train[\"month_end\"].max(),\n",
    "    )\n",
    "    print(\n",
    "        \"---> training set spans\",\n",
    "        df_test[\"month_end\"].min(),\n",
    "        df_test[\"month_end\"].max(),\n",
    "    )\n",
    "\n",
    "    # initialise data\n",
    "    n_train = len(df_train)\n",
    "    df_returns = pd.concat(objs=[df_train, df_test], ignore_index=True)\n",
    "\n",
    "    df_weights = equalise_weights(\n",
    "        df_returns[:n_train]\n",
    "    )  # df to store weights and create initial\n",
    "\n",
    "    # list of stock names\n",
    "    list_stocks = list(df_returns.columns)\n",
    "    list_stocks.remove(\"month_end\")\n",
    "\n",
    "    # Only positive predicted stock are considered\n",
    "    # Higher volitility have higher weighting\n",
    "    # Higher prediction through my machine learning algorithm (LSTM) will have higher weighting\n",
    "    for i in range(len(df_test)):\n",
    "        df_latest = df_returns[(df_returns[\"month_end\"] < df_test.loc[i, \"month_end\"])]\n",
    "\n",
    "        if len(df_latest) >= lookback:\n",
    "            latest_returns = df_latest[-lookback:][list_stocks].values\n",
    "        else:\n",
    "            continue\n",
    "\n",
    "        # reshape the latest returns to be suitable for the LSTM model\n",
    "        latest_returns = np.reshape(latest_returns, (1, lookback, len(list_stocks)))\n",
    "\n",
    "        # predict the future returns using the LSTM model\n",
    "        predicted_returns = model.predict(latest_returns)\n",
    "\n",
    "        # Filter out the stocks with positive predicted returns\n",
    "        positive_returns_indices = np.where(predicted_returns[0] > 0)[0]\n",
    "        positive_returns = predicted_returns[0][positive_returns_indices]\n",
    "        positive_stock_names = np.array(list_stocks)[positive_returns_indices]\n",
    "\n",
    "        # Apply exponential weighting to the positive returns\n",
    "        exp_returns = np.exp(positive_returns)\n",
    "\n",
    "        # Calculate the recent volatility for each stock\n",
    "        volatilities = np.std(latest_returns[0], axis=0)\n",
    "\n",
    "        # Scale the weights of each stock correspondto its recent volatility\n",
    "        volatility_scaled_weights = exp_returns * volatilities[positive_returns_indices]\n",
    "\n",
    "        # Normalize the weights to sum to 1\n",
    "        weights = volatility_scaled_weights / np.sum(volatility_scaled_weights)\n",
    "\n",
    "        # Create a new weight dataframe\n",
    "        weights_dict = dict(zip(positive_stock_names, weights))\n",
    "        weights_dict[\"month_end\"] = df_test.loc[i, \"month_end\"]\n",
    "        df_this = pd.DataFrame(data=[weights_dict], columns=df_weights.columns)\n",
    "        df_this = df_this.fillna(0)  # fill NaNs for stocks that have been excluded\n",
    "\n",
    "        # Append the weights to the df_weights dataframe\n",
    "        df_weights = pd.concat(objs=[df_weights, df_this], ignore_index=True)\n",
    "\n",
    "    # 10% limit check\n",
    "    if len(\n",
    "        np.array(df_weights[list_stocks])[np.array(df_weights[list_stocks]) > 0.101]\n",
    "    ):\n",
    "        raise Exception(r\"---> 10% limit exceeded\")\n",
    "\n",
    "    return df_returns, df_weights"
   ]
  },
  {
   "cell_type": "code",
   "execution_count": 20,
   "metadata": {},
   "outputs": [],
   "source": [
    "def plot_total_return(\n",
    "    df_returns: pd.DataFrame,\n",
    "    df_weights_index: pd.DataFrame,\n",
    "    df_weights_portfolio: pd.DataFrame,\n",
    "):\n",
    "    \"\"\"\n",
    "    Function to generate the two total return indices.\n",
    "\n",
    "    Args:\n",
    "        df_returns: Ascending date ordered combined training and test returns data.\n",
    "        df_weights_index: Index weights. Equally weighted\n",
    "        df_weights_index: Portfolio weights. Your portfolio should use equally weighted for the training date range. If blank will be ignored\n",
    "\n",
    "    Returns:\n",
    "        A plot of the two total return indices and the total return indices as a dataframe\n",
    "    \"\"\"\n",
    "\n",
    "    # list of stock names\n",
    "    list_stocks = list(df_returns.columns)\n",
    "    list_stocks.remove(\"month_end\")\n",
    "\n",
    "    # replace nans with 0 in return array\n",
    "    ar_returns = np.array(df_returns[list_stocks])\n",
    "    np.nan_to_num(x=ar_returns, copy=False, nan=0)\n",
    "\n",
    "    # calc index\n",
    "    ar_rtn_index = np.array(df_weights_index[list_stocks]) * ar_returns\n",
    "    ar_rtn_port = np.array(df_weights_portfolio[list_stocks]) * ar_returns\n",
    "\n",
    "    v_rtn_index = np.sum(ar_rtn_index, axis=1)\n",
    "    v_rtn_port = np.sum(ar_rtn_port, axis=1)\n",
    "\n",
    "    # add return series to dataframe\n",
    "    df_rtn = pd.DataFrame(data=df_returns[\"month_end\"], columns=[\"month_end\"])\n",
    "    df_rtn[\"index\"] = v_rtn_index\n",
    "    df_rtn[\"portfolio\"] = v_rtn_port\n",
    "    df_rtn\n",
    "\n",
    "    # create total return\n",
    "    base_price = 100\n",
    "    df_rtn.sort_values(by=\"month_end\", inplace=True)\n",
    "    df_rtn[\"index_tr\"] = ((1 + df_rtn[\"index\"]).cumprod()) * base_price\n",
    "    df_rtn[\"portfolio_tr\"] = ((1 + df_rtn[\"portfolio\"]).cumprod()) * base_price\n",
    "    df_rtn\n",
    "\n",
    "    df_rtn_long = df_rtn[[\"month_end\", \"index_tr\", \"portfolio_tr\"]].melt(\n",
    "        id_vars=\"month_end\", var_name=\"series\", value_name=\"Total Return\"\n",
    "    )\n",
    "\n",
    "    # plot\n",
    "    fig1 = px.line(\n",
    "        data_frame=df_rtn_long, x=\"month_end\", y=\"Total Return\", color=\"series\"\n",
    "    )\n",
    "\n",
    "    return fig1, df_rtn"
   ]
  },
  {
   "cell_type": "code",
   "execution_count": 21,
   "metadata": {},
   "outputs": [
    {
     "name": "stdout",
     "output_type": "stream",
     "text": [
      "---> training set spans 2010-01-31 2017-08-31\n",
      "---> training set spans 2017-09-30 2022-09-30\n",
      "1/1 [==============================] - 2s 2s/step\n",
      "1/1 [==============================] - 0s 40ms/step\n",
      "1/1 [==============================] - 0s 32ms/step\n",
      "1/1 [==============================] - 0s 36ms/step\n",
      "1/1 [==============================] - 0s 36ms/step\n",
      "1/1 [==============================] - 0s 34ms/step\n",
      "1/1 [==============================] - 0s 37ms/step\n",
      "1/1 [==============================] - 0s 36ms/step\n",
      "1/1 [==============================] - 0s 32ms/step\n",
      "1/1 [==============================] - 0s 45ms/step\n",
      "1/1 [==============================] - 0s 36ms/step\n",
      "1/1 [==============================] - 0s 38ms/step\n",
      "1/1 [==============================] - 0s 40ms/step\n",
      "1/1 [==============================] - 0s 36ms/step\n",
      "1/1 [==============================] - 0s 39ms/step\n",
      "1/1 [==============================] - 0s 36ms/step\n",
      "1/1 [==============================] - 0s 35ms/step\n",
      "1/1 [==============================] - 0s 30ms/step\n",
      "1/1 [==============================] - 0s 29ms/step\n",
      "1/1 [==============================] - 0s 37ms/step\n",
      "1/1 [==============================] - 0s 41ms/step\n",
      "1/1 [==============================] - 0s 32ms/step\n",
      "1/1 [==============================] - 0s 36ms/step\n",
      "1/1 [==============================] - 0s 32ms/step\n",
      "1/1 [==============================] - 0s 36ms/step\n",
      "1/1 [==============================] - 0s 33ms/step\n",
      "1/1 [==============================] - 0s 36ms/step\n",
      "1/1 [==============================] - 0s 36ms/step\n",
      "1/1 [==============================] - 0s 32ms/step\n",
      "1/1 [==============================] - 0s 33ms/step\n",
      "1/1 [==============================] - 0s 31ms/step\n",
      "1/1 [==============================] - 0s 35ms/step\n",
      "1/1 [==============================] - 0s 35ms/step\n",
      "1/1 [==============================] - 0s 34ms/step\n",
      "1/1 [==============================] - 0s 36ms/step\n",
      "1/1 [==============================] - 0s 35ms/step\n",
      "1/1 [==============================] - 0s 32ms/step\n",
      "1/1 [==============================] - 0s 36ms/step\n",
      "1/1 [==============================] - 0s 33ms/step\n",
      "1/1 [==============================] - 0s 34ms/step\n",
      "1/1 [==============================] - 0s 36ms/step\n",
      "1/1 [==============================] - 0s 36ms/step\n",
      "1/1 [==============================] - 0s 36ms/step\n",
      "1/1 [==============================] - 0s 32ms/step\n",
      "1/1 [==============================] - 0s 32ms/step\n",
      "1/1 [==============================] - 0s 37ms/step\n",
      "1/1 [==============================] - 0s 32ms/step\n",
      "1/1 [==============================] - 0s 36ms/step\n",
      "1/1 [==============================] - 0s 39ms/step\n",
      "1/1 [==============================] - 0s 36ms/step\n",
      "1/1 [==============================] - 0s 40ms/step\n",
      "1/1 [==============================] - 0s 29ms/step\n",
      "1/1 [==============================] - 0s 35ms/step\n",
      "1/1 [==============================] - 0s 28ms/step\n",
      "1/1 [==============================] - 0s 29ms/step\n",
      "1/1 [==============================] - 0s 29ms/step\n",
      "1/1 [==============================] - 0s 37ms/step\n",
      "1/1 [==============================] - 0s 32ms/step\n",
      "1/1 [==============================] - 0s 32ms/step\n",
      "1/1 [==============================] - 0s 29ms/step\n",
      "1/1 [==============================] - 0s 92ms/step\n"
     ]
    },
    {
     "data": {
      "application/vnd.plotly.v1+json": {
       "config": {
        "plotlyServerURL": "https://plot.ly"
       },
       "data": [
        {
         "hovertemplate": "series=index_tr<br>month_end=%{x}<br>Total Return=%{y}<extra></extra>",
         "legendgroup": "index_tr",
         "line": {
          "color": "#636efa",
          "dash": "solid"
         },
         "marker": {
          "symbol": "circle"
         },
         "mode": "lines",
         "name": "index_tr",
         "orientation": "v",
         "showlegend": true,
         "type": "scatter",
         "x": [
          "2010-01-31",
          "2010-02-28",
          "2010-03-31",
          "2010-04-30",
          "2010-05-31",
          "2010-06-30",
          "2010-07-31",
          "2010-08-31",
          "2010-09-30",
          "2010-10-31",
          "2010-11-30",
          "2010-12-31",
          "2011-01-31",
          "2011-02-28",
          "2011-03-31",
          "2011-04-30",
          "2011-05-31",
          "2011-06-30",
          "2011-07-31",
          "2011-08-31",
          "2011-09-30",
          "2011-10-31",
          "2011-11-30",
          "2011-12-31",
          "2012-01-31",
          "2012-02-29",
          "2012-03-31",
          "2012-04-30",
          "2012-05-31",
          "2012-06-30",
          "2012-07-31",
          "2012-08-31",
          "2012-09-30",
          "2012-10-31",
          "2012-11-30",
          "2012-12-31",
          "2013-01-31",
          "2013-02-28",
          "2013-03-31",
          "2013-04-30",
          "2013-05-31",
          "2013-06-30",
          "2013-07-31",
          "2013-08-31",
          "2013-09-30",
          "2013-10-31",
          "2013-11-30",
          "2013-12-31",
          "2014-01-31",
          "2014-02-28",
          "2014-03-31",
          "2014-04-30",
          "2014-05-31",
          "2014-06-30",
          "2014-07-31",
          "2014-08-31",
          "2014-09-30",
          "2014-10-31",
          "2014-11-30",
          "2014-12-31",
          "2015-01-31",
          "2015-02-28",
          "2015-03-31",
          "2015-04-30",
          "2015-05-31",
          "2015-06-30",
          "2015-07-31",
          "2015-08-31",
          "2015-09-30",
          "2015-10-31",
          "2015-11-30",
          "2015-12-31",
          "2016-01-31",
          "2016-02-29",
          "2016-03-31",
          "2016-04-30",
          "2016-05-31",
          "2016-06-30",
          "2016-07-31",
          "2016-08-31",
          "2016-09-30",
          "2016-10-31",
          "2016-11-30",
          "2016-12-31",
          "2017-01-31",
          "2017-02-28",
          "2017-03-31",
          "2017-04-30",
          "2017-05-31",
          "2017-06-30",
          "2017-07-31",
          "2017-08-31",
          "2017-09-30",
          "2017-10-31",
          "2017-11-30",
          "2017-12-31",
          "2018-01-31",
          "2018-02-28",
          "2018-03-31",
          "2018-04-30",
          "2018-05-31",
          "2018-06-30",
          "2018-07-31",
          "2018-08-31",
          "2018-09-30",
          "2018-10-31",
          "2018-11-30",
          "2018-12-31",
          "2019-01-31",
          "2019-02-28",
          "2019-03-31",
          "2019-04-30",
          "2019-05-31",
          "2019-06-30",
          "2019-07-31",
          "2019-08-31",
          "2019-09-30",
          "2019-10-31",
          "2019-11-30",
          "2019-12-31",
          "2020-01-31",
          "2020-02-29",
          "2020-03-31",
          "2020-04-30",
          "2020-05-31",
          "2020-06-30",
          "2020-07-31",
          "2020-08-31",
          "2020-09-30",
          "2020-10-31",
          "2020-11-30",
          "2020-12-31",
          "2021-01-31",
          "2021-02-28",
          "2021-03-31",
          "2021-04-30",
          "2021-05-31",
          "2021-06-30",
          "2021-07-31",
          "2021-08-31",
          "2021-09-30",
          "2021-10-31",
          "2021-11-30",
          "2021-12-31",
          "2022-01-31",
          "2022-02-28",
          "2022-03-31",
          "2022-04-30",
          "2022-05-31",
          "2022-06-30",
          "2022-07-31",
          "2022-08-31",
          "2022-09-30"
         ],
         "xaxis": "x",
         "y": [
          98.40422503465814,
          100.93798662242051,
          107.68288522534036,
          109.7995615285553,
          107.23242817648126,
          106.43966113566464,
          113.91349320384909,
          112.29508785565194,
          122.12549889316125,
          124.87638245152488,
          124.37504919099058,
          131.02440630172168,
          125.53974799975698,
          128.16916055886097,
          130.8873968980463,
          134.06376216689685,
          133.87076190339369,
          132.59760255874266,
          132.19487983933925,
          133.93330703110996,
          130.5237798699564,
          139.62267767903492,
          142.58187781542216,
          140.81510171281383,
          147.43151378288488,
          151.98680235958813,
          152.40074939942423,
          156.02418771795553,
          152.8161411497546,
          155.48775962326914,
          159.96753392766976,
          161.2555092837166,
          163.55646116844596,
          166.76092531656502,
          169.35948468015056,
          179.51302600735073,
          178.97405279416094,
          175.715694663543,
          177.78002433183755,
          173.6270905121469,
          179.05309265268664,
          174.40587342069082,
          177.70371255865953,
          180.45868512898545,
          190.13847786882747,
          199.8342118600708,
          195.61245975954753,
          198.21223347276447,
          192.83928084761467,
          199.0110446369025,
          209.28517002996813,
          216.99871696931413,
          215.54672594503234,
          221.47400674506645,
          229.30151970138036,
          231.71558423761155,
          223.30433148163613,
          230.03817391436593,
          237.31763181271953,
          238.0489478471065,
          253.40103532914986,
          257.65372033222815,
          250.32521657304318,
          261.0487471728084,
          244.49076503231,
          240.52762911874868,
          239.19767530915811,
          235.3547408233148,
          222.77135367139928,
          234.26747289033133,
          222.1090879667571,
          213.67839960700294,
          220.78695617407473,
          238.25962030287462,
          265.5875885745103,
          281.4830979229849,
          265.08963832048636,
          272.6053430199218,
          290.46865219314884,
          277.2773336280136,
          279.3254063118272,
          277.71860735593725,
          274.1748170835136,
          284.22745240063205,
          296.41653958631605,
          293.1716168419007,
          293.7023992516104,
          296.36419976912174,
          289.35664391915265,
          278.34458913811073,
          293.49195242698454,
          302.7447105318491,
          293.3548318464133,
          306.265024468535,
          316.34007571598295,
          320.6050708597117,
          319.8398684632358,
          314.3939885564841,
          299.3651563947235,
          311.75016932500927,
          286.5744449293349,
          284.51792257776367,
          296.12916505146376,
          296.143910254921,
          290.4436965043894,
          286.9509171356384,
          285.7353782660105,
          295.5481203141585,
          303.41923749726544,
          308.1306150282999,
          298.5647435963675,
          309.02289813595524,
          300.56226016303185,
          312.06482538817767,
          298.2095280041462,
          288.517714586796,
          289.2751273268798,
          302.77492930198224,
          296.15403611536595,
          301.300222213508,
          288.1274106750146,
          256.3501391424798,
          198.61104648895602,
          232.17876375277234,
          226.37299938748362,
          251.28070815857097,
          253.4386819534693,
          248.00730686110998,
          251.20981465197428,
          242.3029989334201,
          277.8151656727379,
          304.3408079639736,
          323.87054861742905,
          344.77548375050344,
          366.4195141948255,
          381.31140527510394,
          402.786450399951,
          391.0039272495355,
          405.4842305132651,
          429.09830839640495,
          428.2369585651376,
          437.4693282884787,
          444.0045333993229,
          476.727609087252,
          484.55475348051664,
          493.4639696855345,
          514.924562516531,
          488.9124266125262,
          482.9373630725979,
          440.5963276777227,
          459.5446640353366,
          452.01765890108527,
          450.7681381232569
         ],
         "yaxis": "y"
        },
        {
         "hovertemplate": "series=portfolio_tr<br>month_end=%{x}<br>Total Return=%{y}<extra></extra>",
         "legendgroup": "portfolio_tr",
         "line": {
          "color": "#EF553B",
          "dash": "solid"
         },
         "marker": {
          "symbol": "circle"
         },
         "mode": "lines",
         "name": "portfolio_tr",
         "orientation": "v",
         "showlegend": true,
         "type": "scatter",
         "x": [
          "2010-01-31",
          "2010-02-28",
          "2010-03-31",
          "2010-04-30",
          "2010-05-31",
          "2010-06-30",
          "2010-07-31",
          "2010-08-31",
          "2010-09-30",
          "2010-10-31",
          "2010-11-30",
          "2010-12-31",
          "2011-01-31",
          "2011-02-28",
          "2011-03-31",
          "2011-04-30",
          "2011-05-31",
          "2011-06-30",
          "2011-07-31",
          "2011-08-31",
          "2011-09-30",
          "2011-10-31",
          "2011-11-30",
          "2011-12-31",
          "2012-01-31",
          "2012-02-29",
          "2012-03-31",
          "2012-04-30",
          "2012-05-31",
          "2012-06-30",
          "2012-07-31",
          "2012-08-31",
          "2012-09-30",
          "2012-10-31",
          "2012-11-30",
          "2012-12-31",
          "2013-01-31",
          "2013-02-28",
          "2013-03-31",
          "2013-04-30",
          "2013-05-31",
          "2013-06-30",
          "2013-07-31",
          "2013-08-31",
          "2013-09-30",
          "2013-10-31",
          "2013-11-30",
          "2013-12-31",
          "2014-01-31",
          "2014-02-28",
          "2014-03-31",
          "2014-04-30",
          "2014-05-31",
          "2014-06-30",
          "2014-07-31",
          "2014-08-31",
          "2014-09-30",
          "2014-10-31",
          "2014-11-30",
          "2014-12-31",
          "2015-01-31",
          "2015-02-28",
          "2015-03-31",
          "2015-04-30",
          "2015-05-31",
          "2015-06-30",
          "2015-07-31",
          "2015-08-31",
          "2015-09-30",
          "2015-10-31",
          "2015-11-30",
          "2015-12-31",
          "2016-01-31",
          "2016-02-29",
          "2016-03-31",
          "2016-04-30",
          "2016-05-31",
          "2016-06-30",
          "2016-07-31",
          "2016-08-31",
          "2016-09-30",
          "2016-10-31",
          "2016-11-30",
          "2016-12-31",
          "2017-01-31",
          "2017-02-28",
          "2017-03-31",
          "2017-04-30",
          "2017-05-31",
          "2017-06-30",
          "2017-07-31",
          "2017-08-31",
          "2017-09-30",
          "2017-10-31",
          "2017-11-30",
          "2017-12-31",
          "2018-01-31",
          "2018-02-28",
          "2018-03-31",
          "2018-04-30",
          "2018-05-31",
          "2018-06-30",
          "2018-07-31",
          "2018-08-31",
          "2018-09-30",
          "2018-10-31",
          "2018-11-30",
          "2018-12-31",
          "2019-01-31",
          "2019-02-28",
          "2019-03-31",
          "2019-04-30",
          "2019-05-31",
          "2019-06-30",
          "2019-07-31",
          "2019-08-31",
          "2019-09-30",
          "2019-10-31",
          "2019-11-30",
          "2019-12-31",
          "2020-01-31",
          "2020-02-29",
          "2020-03-31",
          "2020-04-30",
          "2020-05-31",
          "2020-06-30",
          "2020-07-31",
          "2020-08-31",
          "2020-09-30",
          "2020-10-31",
          "2020-11-30",
          "2020-12-31",
          "2021-01-31",
          "2021-02-28",
          "2021-03-31",
          "2021-04-30",
          "2021-05-31",
          "2021-06-30",
          "2021-07-31",
          "2021-08-31",
          "2021-09-30",
          "2021-10-31",
          "2021-11-30",
          "2021-12-31",
          "2022-01-31",
          "2022-02-28",
          "2022-03-31",
          "2022-04-30",
          "2022-05-31",
          "2022-06-30",
          "2022-07-31",
          "2022-08-31",
          "2022-09-30"
         ],
         "xaxis": "x",
         "y": [
          98.40422503465814,
          100.93798662242051,
          107.68288522534036,
          109.7995615285553,
          107.23242817648126,
          106.43966113566464,
          113.91349320384909,
          112.29508785565194,
          122.12549889316125,
          124.87638245152488,
          124.37504919099058,
          131.02440630172168,
          125.53974799975698,
          128.16916055886097,
          130.8873968980463,
          134.06376216689685,
          133.87076190339369,
          132.59760255874266,
          132.19487983933925,
          133.93330703110996,
          130.5237798699564,
          139.62267767903492,
          142.58187781542216,
          140.81510171281383,
          147.43151378288488,
          151.98680235958813,
          152.40074939942423,
          156.02418771795553,
          152.8161411497546,
          155.48775962326914,
          159.96753392766976,
          161.2555092837166,
          163.55646116844596,
          166.76092531656502,
          169.35948468015056,
          179.51302600735073,
          178.97405279416094,
          175.715694663543,
          177.78002433183755,
          173.6270905121469,
          179.05309265268664,
          174.40587342069082,
          177.70371255865953,
          180.45868512898545,
          190.13847786882747,
          199.8342118600708,
          195.61245975954753,
          198.21223347276447,
          192.83928084761467,
          199.0110446369025,
          209.28517002996813,
          216.99871696931413,
          215.54672594503234,
          221.47400674506645,
          229.30151970138036,
          231.71558423761155,
          223.30433148163613,
          230.03817391436593,
          237.31763181271953,
          238.0489478471065,
          253.40103532914986,
          257.65372033222815,
          250.32521657304318,
          261.0487471728084,
          244.49076503231,
          240.52762911874868,
          239.19767530915811,
          235.3547408233148,
          222.77135367139928,
          234.26747289033133,
          222.1090879667571,
          213.67839960700294,
          220.78695617407473,
          238.25962030287462,
          265.5875885745103,
          281.4830979229849,
          265.08963832048636,
          272.6053430199218,
          290.46865219314884,
          277.2773336280136,
          279.3254063118272,
          277.71860735593725,
          274.1748170835136,
          284.22745240063205,
          296.41653958631605,
          293.1716168419007,
          293.7023992516104,
          296.36419976912174,
          289.35664391915265,
          278.34458913811073,
          293.49195242698454,
          302.7447105318491,
          291.81447239388893,
          308.7977586581792,
          317.46640467209306,
          315.980565008889,
          315.17931083241166,
          306.5477692742863,
          288.40980922995055,
          297.170071544132,
          270.633374974646,
          269.6388932710465,
          284.41860050083585,
          282.9270799109806,
          280.95760560937583,
          281.4385654325379,
          276.84088762582905,
          290.3424196043114,
          299.03272616079323,
          310.09030552319416,
          299.9343063556587,
          304.28861170233637,
          298.51836535718417,
          314.30109394554137,
          302.15817828592753,
          297.85961950688727,
          293.81205231426037,
          308.5001351912185,
          300.4854063001455,
          307.7659838198207,
          295.66474834398684,
          267.56228891731695,
          208.70302217050755,
          251.59548311327993,
          246.08365459547525,
          280.4480052539967,
          287.68621870949613,
          280.36611883863156,
          276.8989957223652,
          265.30743125700576,
          306.17412151924503,
          341.61536683363937,
          376.77794483038076,
          410.6183513249361,
          442.736848162654,
          467.70631568237746,
          489.4961534170436,
          471.7811090467055,
          495.75721153606116,
          530.232647687731,
          534.3392603616905,
          546.8094508585345,
          560.036164610925,
          619.8281330411401,
          632.1136715947626,
          635.7435405146244,
          655.6112545518024,
          613.9870246720898,
          605.2064966770056,
          550.9149051677855,
          576.2396043068396,
          557.3222873353085,
          544.2583292772424
         ],
         "yaxis": "y"
        }
       ],
       "layout": {
        "legend": {
         "title": {
          "text": "series"
         },
         "tracegroupgap": 0
        },
        "margin": {
         "t": 60
        },
        "template": {
         "data": {
          "bar": [
           {
            "error_x": {
             "color": "#2a3f5f"
            },
            "error_y": {
             "color": "#2a3f5f"
            },
            "marker": {
             "line": {
              "color": "#E5ECF6",
              "width": 0.5
             },
             "pattern": {
              "fillmode": "overlay",
              "size": 10,
              "solidity": 0.2
             }
            },
            "type": "bar"
           }
          ],
          "barpolar": [
           {
            "marker": {
             "line": {
              "color": "#E5ECF6",
              "width": 0.5
             },
             "pattern": {
              "fillmode": "overlay",
              "size": 10,
              "solidity": 0.2
             }
            },
            "type": "barpolar"
           }
          ],
          "carpet": [
           {
            "aaxis": {
             "endlinecolor": "#2a3f5f",
             "gridcolor": "white",
             "linecolor": "white",
             "minorgridcolor": "white",
             "startlinecolor": "#2a3f5f"
            },
            "baxis": {
             "endlinecolor": "#2a3f5f",
             "gridcolor": "white",
             "linecolor": "white",
             "minorgridcolor": "white",
             "startlinecolor": "#2a3f5f"
            },
            "type": "carpet"
           }
          ],
          "choropleth": [
           {
            "colorbar": {
             "outlinewidth": 0,
             "ticks": ""
            },
            "type": "choropleth"
           }
          ],
          "contour": [
           {
            "colorbar": {
             "outlinewidth": 0,
             "ticks": ""
            },
            "colorscale": [
             [
              0,
              "#0d0887"
             ],
             [
              0.1111111111111111,
              "#46039f"
             ],
             [
              0.2222222222222222,
              "#7201a8"
             ],
             [
              0.3333333333333333,
              "#9c179e"
             ],
             [
              0.4444444444444444,
              "#bd3786"
             ],
             [
              0.5555555555555556,
              "#d8576b"
             ],
             [
              0.6666666666666666,
              "#ed7953"
             ],
             [
              0.7777777777777778,
              "#fb9f3a"
             ],
             [
              0.8888888888888888,
              "#fdca26"
             ],
             [
              1,
              "#f0f921"
             ]
            ],
            "type": "contour"
           }
          ],
          "contourcarpet": [
           {
            "colorbar": {
             "outlinewidth": 0,
             "ticks": ""
            },
            "type": "contourcarpet"
           }
          ],
          "heatmap": [
           {
            "colorbar": {
             "outlinewidth": 0,
             "ticks": ""
            },
            "colorscale": [
             [
              0,
              "#0d0887"
             ],
             [
              0.1111111111111111,
              "#46039f"
             ],
             [
              0.2222222222222222,
              "#7201a8"
             ],
             [
              0.3333333333333333,
              "#9c179e"
             ],
             [
              0.4444444444444444,
              "#bd3786"
             ],
             [
              0.5555555555555556,
              "#d8576b"
             ],
             [
              0.6666666666666666,
              "#ed7953"
             ],
             [
              0.7777777777777778,
              "#fb9f3a"
             ],
             [
              0.8888888888888888,
              "#fdca26"
             ],
             [
              1,
              "#f0f921"
             ]
            ],
            "type": "heatmap"
           }
          ],
          "heatmapgl": [
           {
            "colorbar": {
             "outlinewidth": 0,
             "ticks": ""
            },
            "colorscale": [
             [
              0,
              "#0d0887"
             ],
             [
              0.1111111111111111,
              "#46039f"
             ],
             [
              0.2222222222222222,
              "#7201a8"
             ],
             [
              0.3333333333333333,
              "#9c179e"
             ],
             [
              0.4444444444444444,
              "#bd3786"
             ],
             [
              0.5555555555555556,
              "#d8576b"
             ],
             [
              0.6666666666666666,
              "#ed7953"
             ],
             [
              0.7777777777777778,
              "#fb9f3a"
             ],
             [
              0.8888888888888888,
              "#fdca26"
             ],
             [
              1,
              "#f0f921"
             ]
            ],
            "type": "heatmapgl"
           }
          ],
          "histogram": [
           {
            "marker": {
             "pattern": {
              "fillmode": "overlay",
              "size": 10,
              "solidity": 0.2
             }
            },
            "type": "histogram"
           }
          ],
          "histogram2d": [
           {
            "colorbar": {
             "outlinewidth": 0,
             "ticks": ""
            },
            "colorscale": [
             [
              0,
              "#0d0887"
             ],
             [
              0.1111111111111111,
              "#46039f"
             ],
             [
              0.2222222222222222,
              "#7201a8"
             ],
             [
              0.3333333333333333,
              "#9c179e"
             ],
             [
              0.4444444444444444,
              "#bd3786"
             ],
             [
              0.5555555555555556,
              "#d8576b"
             ],
             [
              0.6666666666666666,
              "#ed7953"
             ],
             [
              0.7777777777777778,
              "#fb9f3a"
             ],
             [
              0.8888888888888888,
              "#fdca26"
             ],
             [
              1,
              "#f0f921"
             ]
            ],
            "type": "histogram2d"
           }
          ],
          "histogram2dcontour": [
           {
            "colorbar": {
             "outlinewidth": 0,
             "ticks": ""
            },
            "colorscale": [
             [
              0,
              "#0d0887"
             ],
             [
              0.1111111111111111,
              "#46039f"
             ],
             [
              0.2222222222222222,
              "#7201a8"
             ],
             [
              0.3333333333333333,
              "#9c179e"
             ],
             [
              0.4444444444444444,
              "#bd3786"
             ],
             [
              0.5555555555555556,
              "#d8576b"
             ],
             [
              0.6666666666666666,
              "#ed7953"
             ],
             [
              0.7777777777777778,
              "#fb9f3a"
             ],
             [
              0.8888888888888888,
              "#fdca26"
             ],
             [
              1,
              "#f0f921"
             ]
            ],
            "type": "histogram2dcontour"
           }
          ],
          "mesh3d": [
           {
            "colorbar": {
             "outlinewidth": 0,
             "ticks": ""
            },
            "type": "mesh3d"
           }
          ],
          "parcoords": [
           {
            "line": {
             "colorbar": {
              "outlinewidth": 0,
              "ticks": ""
             }
            },
            "type": "parcoords"
           }
          ],
          "pie": [
           {
            "automargin": true,
            "type": "pie"
           }
          ],
          "scatter": [
           {
            "fillpattern": {
             "fillmode": "overlay",
             "size": 10,
             "solidity": 0.2
            },
            "type": "scatter"
           }
          ],
          "scatter3d": [
           {
            "line": {
             "colorbar": {
              "outlinewidth": 0,
              "ticks": ""
             }
            },
            "marker": {
             "colorbar": {
              "outlinewidth": 0,
              "ticks": ""
             }
            },
            "type": "scatter3d"
           }
          ],
          "scattercarpet": [
           {
            "marker": {
             "colorbar": {
              "outlinewidth": 0,
              "ticks": ""
             }
            },
            "type": "scattercarpet"
           }
          ],
          "scattergeo": [
           {
            "marker": {
             "colorbar": {
              "outlinewidth": 0,
              "ticks": ""
             }
            },
            "type": "scattergeo"
           }
          ],
          "scattergl": [
           {
            "marker": {
             "colorbar": {
              "outlinewidth": 0,
              "ticks": ""
             }
            },
            "type": "scattergl"
           }
          ],
          "scattermapbox": [
           {
            "marker": {
             "colorbar": {
              "outlinewidth": 0,
              "ticks": ""
             }
            },
            "type": "scattermapbox"
           }
          ],
          "scatterpolar": [
           {
            "marker": {
             "colorbar": {
              "outlinewidth": 0,
              "ticks": ""
             }
            },
            "type": "scatterpolar"
           }
          ],
          "scatterpolargl": [
           {
            "marker": {
             "colorbar": {
              "outlinewidth": 0,
              "ticks": ""
             }
            },
            "type": "scatterpolargl"
           }
          ],
          "scatterternary": [
           {
            "marker": {
             "colorbar": {
              "outlinewidth": 0,
              "ticks": ""
             }
            },
            "type": "scatterternary"
           }
          ],
          "surface": [
           {
            "colorbar": {
             "outlinewidth": 0,
             "ticks": ""
            },
            "colorscale": [
             [
              0,
              "#0d0887"
             ],
             [
              0.1111111111111111,
              "#46039f"
             ],
             [
              0.2222222222222222,
              "#7201a8"
             ],
             [
              0.3333333333333333,
              "#9c179e"
             ],
             [
              0.4444444444444444,
              "#bd3786"
             ],
             [
              0.5555555555555556,
              "#d8576b"
             ],
             [
              0.6666666666666666,
              "#ed7953"
             ],
             [
              0.7777777777777778,
              "#fb9f3a"
             ],
             [
              0.8888888888888888,
              "#fdca26"
             ],
             [
              1,
              "#f0f921"
             ]
            ],
            "type": "surface"
           }
          ],
          "table": [
           {
            "cells": {
             "fill": {
              "color": "#EBF0F8"
             },
             "line": {
              "color": "white"
             }
            },
            "header": {
             "fill": {
              "color": "#C8D4E3"
             },
             "line": {
              "color": "white"
             }
            },
            "type": "table"
           }
          ]
         },
         "layout": {
          "annotationdefaults": {
           "arrowcolor": "#2a3f5f",
           "arrowhead": 0,
           "arrowwidth": 1
          },
          "autotypenumbers": "strict",
          "coloraxis": {
           "colorbar": {
            "outlinewidth": 0,
            "ticks": ""
           }
          },
          "colorscale": {
           "diverging": [
            [
             0,
             "#8e0152"
            ],
            [
             0.1,
             "#c51b7d"
            ],
            [
             0.2,
             "#de77ae"
            ],
            [
             0.3,
             "#f1b6da"
            ],
            [
             0.4,
             "#fde0ef"
            ],
            [
             0.5,
             "#f7f7f7"
            ],
            [
             0.6,
             "#e6f5d0"
            ],
            [
             0.7,
             "#b8e186"
            ],
            [
             0.8,
             "#7fbc41"
            ],
            [
             0.9,
             "#4d9221"
            ],
            [
             1,
             "#276419"
            ]
           ],
           "sequential": [
            [
             0,
             "#0d0887"
            ],
            [
             0.1111111111111111,
             "#46039f"
            ],
            [
             0.2222222222222222,
             "#7201a8"
            ],
            [
             0.3333333333333333,
             "#9c179e"
            ],
            [
             0.4444444444444444,
             "#bd3786"
            ],
            [
             0.5555555555555556,
             "#d8576b"
            ],
            [
             0.6666666666666666,
             "#ed7953"
            ],
            [
             0.7777777777777778,
             "#fb9f3a"
            ],
            [
             0.8888888888888888,
             "#fdca26"
            ],
            [
             1,
             "#f0f921"
            ]
           ],
           "sequentialminus": [
            [
             0,
             "#0d0887"
            ],
            [
             0.1111111111111111,
             "#46039f"
            ],
            [
             0.2222222222222222,
             "#7201a8"
            ],
            [
             0.3333333333333333,
             "#9c179e"
            ],
            [
             0.4444444444444444,
             "#bd3786"
            ],
            [
             0.5555555555555556,
             "#d8576b"
            ],
            [
             0.6666666666666666,
             "#ed7953"
            ],
            [
             0.7777777777777778,
             "#fb9f3a"
            ],
            [
             0.8888888888888888,
             "#fdca26"
            ],
            [
             1,
             "#f0f921"
            ]
           ]
          },
          "colorway": [
           "#636efa",
           "#EF553B",
           "#00cc96",
           "#ab63fa",
           "#FFA15A",
           "#19d3f3",
           "#FF6692",
           "#B6E880",
           "#FF97FF",
           "#FECB52"
          ],
          "font": {
           "color": "#2a3f5f"
          },
          "geo": {
           "bgcolor": "white",
           "lakecolor": "white",
           "landcolor": "#E5ECF6",
           "showlakes": true,
           "showland": true,
           "subunitcolor": "white"
          },
          "hoverlabel": {
           "align": "left"
          },
          "hovermode": "closest",
          "mapbox": {
           "style": "light"
          },
          "paper_bgcolor": "white",
          "plot_bgcolor": "#E5ECF6",
          "polar": {
           "angularaxis": {
            "gridcolor": "white",
            "linecolor": "white",
            "ticks": ""
           },
           "bgcolor": "#E5ECF6",
           "radialaxis": {
            "gridcolor": "white",
            "linecolor": "white",
            "ticks": ""
           }
          },
          "scene": {
           "xaxis": {
            "backgroundcolor": "#E5ECF6",
            "gridcolor": "white",
            "gridwidth": 2,
            "linecolor": "white",
            "showbackground": true,
            "ticks": "",
            "zerolinecolor": "white"
           },
           "yaxis": {
            "backgroundcolor": "#E5ECF6",
            "gridcolor": "white",
            "gridwidth": 2,
            "linecolor": "white",
            "showbackground": true,
            "ticks": "",
            "zerolinecolor": "white"
           },
           "zaxis": {
            "backgroundcolor": "#E5ECF6",
            "gridcolor": "white",
            "gridwidth": 2,
            "linecolor": "white",
            "showbackground": true,
            "ticks": "",
            "zerolinecolor": "white"
           }
          },
          "shapedefaults": {
           "line": {
            "color": "#2a3f5f"
           }
          },
          "ternary": {
           "aaxis": {
            "gridcolor": "white",
            "linecolor": "white",
            "ticks": ""
           },
           "baxis": {
            "gridcolor": "white",
            "linecolor": "white",
            "ticks": ""
           },
           "bgcolor": "#E5ECF6",
           "caxis": {
            "gridcolor": "white",
            "linecolor": "white",
            "ticks": ""
           }
          },
          "title": {
           "x": 0.05
          },
          "xaxis": {
           "automargin": true,
           "gridcolor": "white",
           "linecolor": "white",
           "ticks": "",
           "title": {
            "standoff": 15
           },
           "zerolinecolor": "white",
           "zerolinewidth": 2
          },
          "yaxis": {
           "automargin": true,
           "gridcolor": "white",
           "linecolor": "white",
           "ticks": "",
           "title": {
            "standoff": 15
           },
           "zerolinecolor": "white",
           "zerolinewidth": 2
          }
         }
        },
        "xaxis": {
         "anchor": "y",
         "domain": [
          0,
          1
         ],
         "title": {
          "text": "month_end"
         }
        },
        "yaxis": {
         "anchor": "x",
         "domain": [
          0,
          1
         ],
         "title": {
          "text": "Total Return"
         }
        }
       }
      }
     },
     "metadata": {},
     "output_type": "display_data"
    }
   ],
   "source": [
    "# running solution\n",
    "df_returns = pd.concat(objs=[df_returns_train, df_returns_test], ignore_index=True)\n",
    "df_weights_index = equalise_weights(df_returns)\n",
    "df_returns, df_weights_portfolio = generate_portfolio(df_returns_train, df_returns_test)\n",
    "fig1, df_rtn = plot_total_return(\n",
    "    df_returns,\n",
    "    df_weights_index=df_weights_index,\n",
    "    df_weights_portfolio=df_weights_portfolio,\n",
    ")\n",
    "fig1"
   ]
  }
 ],
 "metadata": {
  "kernelspec": {
   "display_name": "Python 3",
   "language": "python",
   "name": "python3"
  },
  "language_info": {
   "codemirror_mode": {
    "name": "ipython",
    "version": 3
   },
   "file_extension": ".py",
   "mimetype": "text/x-python",
   "name": "python",
   "nbconvert_exporter": "python",
   "pygments_lexer": "ipython3",
   "version": "3.10.11"
  },
  "orig_nbformat": 4
 },
 "nbformat": 4,
 "nbformat_minor": 2
}
